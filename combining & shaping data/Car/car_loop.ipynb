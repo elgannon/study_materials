{
  "cells": [
    {
      "metadata": {
        "trusted": true
      },
      "cell_type": "code",
      "source": "import pandas as pd\nimport numpy as np\nimport seaborn as sns\nimport matplotlib.pyplot as plt",
      "execution_count": 2,
      "outputs": []
    },
    {
      "metadata": {
        "trusted": true
      },
      "cell_type": "code",
      "source": "cars = pd.read_csv(\"car_data.csv\")",
      "execution_count": 133,
      "outputs": []
    },
    {
      "metadata": {
        "trusted": true
      },
      "cell_type": "code",
      "source": "cars.isnull().sum()",
      "execution_count": 135,
      "outputs": [
        {
          "output_type": "execute_result",
          "execution_count": 135,
          "data": {
            "text/plain": "mpg             8\ncyl             0\ndisplacement    0\nhp              0\nweight          0\nacceleration    0\nyear            0\norigin          0\nname            0\ndtype: int64"
          },
          "metadata": {}
        }
      ]
    },
    {
      "metadata": {
        "trusted": true
      },
      "cell_type": "code",
      "source": "cars['hp'].fillna(0, inplace=True)",
      "execution_count": 134,
      "outputs": []
    },
    {
      "metadata": {
        "trusted": true
      },
      "cell_type": "code",
      "source": "cars['ifhp'] = False",
      "execution_count": 48,
      "outputs": []
    },
    {
      "metadata": {
        "trusted": true
      },
      "cell_type": "code",
      "source": "avg4cyl = cars['cyl'].mean()\navg4cyl",
      "execution_count": 106,
      "outputs": [
        {
          "output_type": "execute_result",
          "execution_count": 106,
          "data": {
            "text/plain": "5.475369458128079"
          },
          "metadata": {}
        }
      ]
    },
    {
      "metadata": {
        "trusted": true
      },
      "cell_type": "code",
      "source": "",
      "execution_count": 114,
      "outputs": []
    },
    {
      "metadata": {
        "trusted": true
      },
      "cell_type": "code",
      "source": "cyl4 = np.where(cars['cyl'] == 4)\n#print(cyl4)\nloccyl4 = cars.iloc[cyl4]\n#print(loccyl4)\navghp4 = loccyl4['hp'].mean()\nprint(avghp4)\n\ncyl6 = np.where(cars['cyl'] == 6)\nloccyl6 = cars.iloc[cyl6]\navghp6 = loccyl6['hp'].mean()\nprint(avghp6)",
      "execution_count": 140,
      "outputs": [
        {
          "output_type": "stream",
          "text": "78.45893719806763\n101.51190476190476\n",
          "name": "stdout"
        }
      ]
    },
    {
      "metadata": {
        "trusted": true
      },
      "cell_type": "code",
      "source": "for index, row in cars.iterrows():\n    if row['cyl'] >= 6 and row['hp'] == 0:\n        cars.at[index, 'hp'] = 102\n    elif row['cyl'] == 4 and row['hp'] == 0:\n        cars.at[index, 'hp'] = 78\n    else:\n        pass\n        ",
      "execution_count": 136,
      "outputs": []
    },
    {
      "metadata": {
        "trusted": true
      },
      "cell_type": "code",
      "source": "cars['hp'].fillna(0, inplace = True)",
      "execution_count": 131,
      "outputs": []
    },
    {
      "metadata": {
        "trusted": true
      },
      "cell_type": "code",
      "source": "np.where(cars['hp'] == 102)",
      "execution_count": 138,
      "outputs": [
        {
          "output_type": "execute_result",
          "execution_count": 138,
          "data": {
            "text/plain": "(array([133, 214]),)"
          },
          "metadata": {}
        }
      ]
    },
    {
      "metadata": {
        "trusted": true
      },
      "cell_type": "code",
      "source": "a1 = np.where(cars['hp'] == 0)\ncars.iloc[zeros]",
      "execution_count": 112,
      "outputs": [
        {
          "output_type": "execute_result",
          "execution_count": 112,
          "data": {
            "text/html": "<div>\n<style scoped>\n    .dataframe tbody tr th:only-of-type {\n        vertical-align: middle;\n    }\n\n    .dataframe tbody tr th {\n        vertical-align: top;\n    }\n\n    .dataframe thead th {\n        text-align: right;\n    }\n</style>\n<table border=\"1\" class=\"dataframe\">\n  <thead>\n    <tr style=\"text-align: right;\">\n      <th></th>\n      <th>mpg</th>\n      <th>cyl</th>\n      <th>displacement</th>\n      <th>hp</th>\n      <th>weight</th>\n      <th>acceleration</th>\n      <th>year</th>\n      <th>origin</th>\n      <th>name</th>\n    </tr>\n  </thead>\n  <tbody>\n    <tr>\n      <th>38</th>\n      <td>25.0</td>\n      <td>4</td>\n      <td>98.0</td>\n      <td>0.0</td>\n      <td>2046</td>\n      <td>19.0</td>\n      <td>71</td>\n      <td>1</td>\n      <td>ford pinto</td>\n    </tr>\n    <tr>\n      <th>133</th>\n      <td>21.0</td>\n      <td>6</td>\n      <td>200.0</td>\n      <td>0.0</td>\n      <td>2875</td>\n      <td>17.0</td>\n      <td>74</td>\n      <td>1</td>\n      <td>ford maverick</td>\n    </tr>\n    <tr>\n      <th>337</th>\n      <td>40.9</td>\n      <td>4</td>\n      <td>85.0</td>\n      <td>0.0</td>\n      <td>1835</td>\n      <td>17.3</td>\n      <td>80</td>\n      <td>2</td>\n      <td>renault lecar deluxe</td>\n    </tr>\n    <tr>\n      <th>343</th>\n      <td>23.6</td>\n      <td>4</td>\n      <td>140.0</td>\n      <td>0.0</td>\n      <td>2905</td>\n      <td>14.3</td>\n      <td>80</td>\n      <td>1</td>\n      <td>ford mustang cobra</td>\n    </tr>\n    <tr>\n      <th>361</th>\n      <td>34.5</td>\n      <td>4</td>\n      <td>100.0</td>\n      <td>0.0</td>\n      <td>2320</td>\n      <td>15.8</td>\n      <td>81</td>\n      <td>2</td>\n      <td>renault 18i</td>\n    </tr>\n    <tr>\n      <th>382</th>\n      <td>23.0</td>\n      <td>4</td>\n      <td>151.0</td>\n      <td>0.0</td>\n      <td>3035</td>\n      <td>20.5</td>\n      <td>82</td>\n      <td>1</td>\n      <td>amc concord dl</td>\n    </tr>\n  </tbody>\n</table>\n</div>",
            "text/plain": "      mpg  cyl  displacement   hp  weight  acceleration  year  origin  \\\n38   25.0    4          98.0  0.0    2046          19.0    71       1   \n133  21.0    6         200.0  0.0    2875          17.0    74       1   \n337  40.9    4          85.0  0.0    1835          17.3    80       2   \n343  23.6    4         140.0  0.0    2905          14.3    80       1   \n361  34.5    4         100.0  0.0    2320          15.8    81       2   \n382  23.0    4         151.0  0.0    3035          20.5    82       1   \n\n                     name  \n38             ford pinto  \n133         ford maverick  \n337  renault lecar deluxe  \n343    ford mustang cobra  \n361           renault 18i  \n382        amc concord dl  "
          },
          "metadata": {}
        }
      ]
    },
    {
      "metadata": {
        "trusted": true
      },
      "cell_type": "code",
      "source": "np.where(cars['hp'] == 201)",
      "execution_count": 82,
      "outputs": [
        {
          "output_type": "execute_result",
          "execution_count": 82,
          "data": {
            "text/plain": "(array([], dtype=int64),)"
          },
          "metadata": {}
        }
      ]
    },
    {
      "metadata": {
        "trusted": true
      },
      "cell_type": "code",
      "source": "np.where(cars['hp'] == 119)",
      "execution_count": 96,
      "outputs": [
        {
          "output_type": "execute_result",
          "execution_count": 96,
          "data": {
            "text/plain": "(array([ 38, 337, 343, 361, 382]),)"
          },
          "metadata": {}
        }
      ]
    },
    {
      "metadata": {
        "trusted": true
      },
      "cell_type": "code",
      "source": "zeros = np.where(cars['hp'] == 4)\nzeros",
      "execution_count": 111,
      "outputs": [
        {
          "output_type": "execute_result",
          "execution_count": 111,
          "data": {
            "text/plain": "(array([], dtype=int64),)"
          },
          "metadata": {}
        }
      ]
    },
    {
      "metadata": {
        "trusted": true
      },
      "cell_type": "code",
      "source": "cars2 = cars.iloc[zeros]\ncars",
      "execution_count": 108,
      "outputs": [
        {
          "output_type": "execute_result",
          "execution_count": 108,
          "data": {
            "text/html": "<div>\n<style scoped>\n    .dataframe tbody tr th:only-of-type {\n        vertical-align: middle;\n    }\n\n    .dataframe tbody tr th {\n        vertical-align: top;\n    }\n\n    .dataframe thead th {\n        text-align: right;\n    }\n</style>\n<table border=\"1\" class=\"dataframe\">\n  <thead>\n    <tr style=\"text-align: right;\">\n      <th></th>\n      <th>mpg</th>\n      <th>cyl</th>\n      <th>displacement</th>\n      <th>hp</th>\n      <th>weight</th>\n      <th>acceleration</th>\n      <th>year</th>\n      <th>origin</th>\n      <th>name</th>\n    </tr>\n  </thead>\n  <tbody>\n    <tr>\n      <th>0</th>\n      <td>18.0</td>\n      <td>8</td>\n      <td>307.0</td>\n      <td>130.0</td>\n      <td>3504</td>\n      <td>12.0</td>\n      <td>70</td>\n      <td>1</td>\n      <td>chevrolet chevelle malibu</td>\n    </tr>\n    <tr>\n      <th>1</th>\n      <td>15.0</td>\n      <td>8</td>\n      <td>350.0</td>\n      <td>165.0</td>\n      <td>3693</td>\n      <td>11.5</td>\n      <td>70</td>\n      <td>1</td>\n      <td>buick skylark 320</td>\n    </tr>\n    <tr>\n      <th>2</th>\n      <td>18.0</td>\n      <td>8</td>\n      <td>318.0</td>\n      <td>150.0</td>\n      <td>3436</td>\n      <td>11.0</td>\n      <td>70</td>\n      <td>1</td>\n      <td>plymouth satellite</td>\n    </tr>\n    <tr>\n      <th>3</th>\n      <td>16.0</td>\n      <td>8</td>\n      <td>304.0</td>\n      <td>150.0</td>\n      <td>3433</td>\n      <td>12.0</td>\n      <td>70</td>\n      <td>1</td>\n      <td>amc rebel sst</td>\n    </tr>\n    <tr>\n      <th>4</th>\n      <td>17.0</td>\n      <td>8</td>\n      <td>302.0</td>\n      <td>140.0</td>\n      <td>3449</td>\n      <td>10.5</td>\n      <td>70</td>\n      <td>1</td>\n      <td>ford torino</td>\n    </tr>\n    <tr>\n      <th>5</th>\n      <td>15.0</td>\n      <td>8</td>\n      <td>429.0</td>\n      <td>198.0</td>\n      <td>4341</td>\n      <td>10.0</td>\n      <td>70</td>\n      <td>1</td>\n      <td>ford galaxie 500</td>\n    </tr>\n    <tr>\n      <th>6</th>\n      <td>14.0</td>\n      <td>8</td>\n      <td>454.0</td>\n      <td>220.0</td>\n      <td>4354</td>\n      <td>9.0</td>\n      <td>70</td>\n      <td>1</td>\n      <td>chevrolet impala</td>\n    </tr>\n    <tr>\n      <th>7</th>\n      <td>14.0</td>\n      <td>8</td>\n      <td>440.0</td>\n      <td>215.0</td>\n      <td>4312</td>\n      <td>8.5</td>\n      <td>70</td>\n      <td>1</td>\n      <td>plymouth fury iii</td>\n    </tr>\n    <tr>\n      <th>8</th>\n      <td>14.0</td>\n      <td>8</td>\n      <td>455.0</td>\n      <td>225.0</td>\n      <td>4425</td>\n      <td>10.0</td>\n      <td>70</td>\n      <td>1</td>\n      <td>pontiac catalina</td>\n    </tr>\n    <tr>\n      <th>9</th>\n      <td>15.0</td>\n      <td>8</td>\n      <td>390.0</td>\n      <td>190.0</td>\n      <td>3850</td>\n      <td>8.5</td>\n      <td>70</td>\n      <td>1</td>\n      <td>amc ambassador dpl</td>\n    </tr>\n    <tr>\n      <th>10</th>\n      <td>NaN</td>\n      <td>4</td>\n      <td>133.0</td>\n      <td>115.0</td>\n      <td>3090</td>\n      <td>17.5</td>\n      <td>70</td>\n      <td>2</td>\n      <td>citroen ds-21 pallas</td>\n    </tr>\n    <tr>\n      <th>11</th>\n      <td>NaN</td>\n      <td>8</td>\n      <td>350.0</td>\n      <td>165.0</td>\n      <td>4142</td>\n      <td>11.5</td>\n      <td>70</td>\n      <td>1</td>\n      <td>chevrolet chevelle concours (sw)</td>\n    </tr>\n    <tr>\n      <th>12</th>\n      <td>NaN</td>\n      <td>8</td>\n      <td>351.0</td>\n      <td>153.0</td>\n      <td>4034</td>\n      <td>11.0</td>\n      <td>70</td>\n      <td>1</td>\n      <td>ford torino (sw)</td>\n    </tr>\n    <tr>\n      <th>13</th>\n      <td>NaN</td>\n      <td>8</td>\n      <td>383.0</td>\n      <td>175.0</td>\n      <td>4166</td>\n      <td>10.5</td>\n      <td>70</td>\n      <td>1</td>\n      <td>plymouth satellite (sw)</td>\n    </tr>\n    <tr>\n      <th>14</th>\n      <td>NaN</td>\n      <td>8</td>\n      <td>360.0</td>\n      <td>175.0</td>\n      <td>3850</td>\n      <td>11.0</td>\n      <td>70</td>\n      <td>1</td>\n      <td>amc rebel sst (sw)</td>\n    </tr>\n    <tr>\n      <th>15</th>\n      <td>15.0</td>\n      <td>8</td>\n      <td>383.0</td>\n      <td>170.0</td>\n      <td>3563</td>\n      <td>10.0</td>\n      <td>70</td>\n      <td>1</td>\n      <td>dodge challenger se</td>\n    </tr>\n    <tr>\n      <th>16</th>\n      <td>14.0</td>\n      <td>8</td>\n      <td>340.0</td>\n      <td>160.0</td>\n      <td>3609</td>\n      <td>8.0</td>\n      <td>70</td>\n      <td>1</td>\n      <td>plymouth 'cuda 340</td>\n    </tr>\n    <tr>\n      <th>17</th>\n      <td>NaN</td>\n      <td>8</td>\n      <td>302.0</td>\n      <td>140.0</td>\n      <td>3353</td>\n      <td>8.0</td>\n      <td>70</td>\n      <td>1</td>\n      <td>ford mustang boss 302</td>\n    </tr>\n    <tr>\n      <th>18</th>\n      <td>15.0</td>\n      <td>8</td>\n      <td>400.0</td>\n      <td>150.0</td>\n      <td>3761</td>\n      <td>9.5</td>\n      <td>70</td>\n      <td>1</td>\n      <td>chevrolet monte carlo</td>\n    </tr>\n    <tr>\n      <th>19</th>\n      <td>14.0</td>\n      <td>8</td>\n      <td>455.0</td>\n      <td>225.0</td>\n      <td>3086</td>\n      <td>10.0</td>\n      <td>70</td>\n      <td>1</td>\n      <td>buick estate wagon (sw)</td>\n    </tr>\n    <tr>\n      <th>20</th>\n      <td>24.0</td>\n      <td>4</td>\n      <td>113.0</td>\n      <td>95.0</td>\n      <td>2372</td>\n      <td>15.0</td>\n      <td>70</td>\n      <td>3</td>\n      <td>toyota corona mark ii</td>\n    </tr>\n    <tr>\n      <th>21</th>\n      <td>22.0</td>\n      <td>6</td>\n      <td>198.0</td>\n      <td>95.0</td>\n      <td>2833</td>\n      <td>15.5</td>\n      <td>70</td>\n      <td>1</td>\n      <td>plymouth duster</td>\n    </tr>\n    <tr>\n      <th>22</th>\n      <td>18.0</td>\n      <td>6</td>\n      <td>199.0</td>\n      <td>97.0</td>\n      <td>2774</td>\n      <td>15.5</td>\n      <td>70</td>\n      <td>1</td>\n      <td>amc hornet</td>\n    </tr>\n    <tr>\n      <th>23</th>\n      <td>21.0</td>\n      <td>6</td>\n      <td>200.0</td>\n      <td>85.0</td>\n      <td>2587</td>\n      <td>16.0</td>\n      <td>70</td>\n      <td>1</td>\n      <td>ford maverick</td>\n    </tr>\n    <tr>\n      <th>24</th>\n      <td>27.0</td>\n      <td>4</td>\n      <td>97.0</td>\n      <td>88.0</td>\n      <td>2130</td>\n      <td>14.5</td>\n      <td>70</td>\n      <td>3</td>\n      <td>datsun pl510</td>\n    </tr>\n    <tr>\n      <th>25</th>\n      <td>26.0</td>\n      <td>4</td>\n      <td>97.0</td>\n      <td>46.0</td>\n      <td>1835</td>\n      <td>20.5</td>\n      <td>70</td>\n      <td>2</td>\n      <td>volkswagen 1131 deluxe sedan</td>\n    </tr>\n    <tr>\n      <th>26</th>\n      <td>25.0</td>\n      <td>4</td>\n      <td>110.0</td>\n      <td>87.0</td>\n      <td>2672</td>\n      <td>17.5</td>\n      <td>70</td>\n      <td>2</td>\n      <td>peugeot 504</td>\n    </tr>\n    <tr>\n      <th>27</th>\n      <td>24.0</td>\n      <td>4</td>\n      <td>107.0</td>\n      <td>90.0</td>\n      <td>2430</td>\n      <td>14.5</td>\n      <td>70</td>\n      <td>2</td>\n      <td>audi 100 ls</td>\n    </tr>\n    <tr>\n      <th>28</th>\n      <td>25.0</td>\n      <td>4</td>\n      <td>104.0</td>\n      <td>95.0</td>\n      <td>2375</td>\n      <td>17.5</td>\n      <td>70</td>\n      <td>2</td>\n      <td>saab 99e</td>\n    </tr>\n    <tr>\n      <th>29</th>\n      <td>26.0</td>\n      <td>4</td>\n      <td>121.0</td>\n      <td>113.0</td>\n      <td>2234</td>\n      <td>12.5</td>\n      <td>70</td>\n      <td>2</td>\n      <td>bmw 2002</td>\n    </tr>\n    <tr>\n      <th>...</th>\n      <td>...</td>\n      <td>...</td>\n      <td>...</td>\n      <td>...</td>\n      <td>...</td>\n      <td>...</td>\n      <td>...</td>\n      <td>...</td>\n      <td>...</td>\n    </tr>\n    <tr>\n      <th>376</th>\n      <td>27.0</td>\n      <td>4</td>\n      <td>112.0</td>\n      <td>88.0</td>\n      <td>2640</td>\n      <td>18.6</td>\n      <td>82</td>\n      <td>1</td>\n      <td>chevrolet cavalier wagon</td>\n    </tr>\n    <tr>\n      <th>377</th>\n      <td>34.0</td>\n      <td>4</td>\n      <td>112.0</td>\n      <td>88.0</td>\n      <td>2395</td>\n      <td>18.0</td>\n      <td>82</td>\n      <td>1</td>\n      <td>chevrolet cavalier 2-door</td>\n    </tr>\n    <tr>\n      <th>378</th>\n      <td>31.0</td>\n      <td>4</td>\n      <td>112.0</td>\n      <td>85.0</td>\n      <td>2575</td>\n      <td>16.2</td>\n      <td>82</td>\n      <td>1</td>\n      <td>pontiac j2000 se hatchback</td>\n    </tr>\n    <tr>\n      <th>379</th>\n      <td>29.0</td>\n      <td>4</td>\n      <td>135.0</td>\n      <td>84.0</td>\n      <td>2525</td>\n      <td>16.0</td>\n      <td>82</td>\n      <td>1</td>\n      <td>dodge aries se</td>\n    </tr>\n    <tr>\n      <th>380</th>\n      <td>27.0</td>\n      <td>4</td>\n      <td>151.0</td>\n      <td>90.0</td>\n      <td>2735</td>\n      <td>18.0</td>\n      <td>82</td>\n      <td>1</td>\n      <td>pontiac phoenix</td>\n    </tr>\n    <tr>\n      <th>381</th>\n      <td>24.0</td>\n      <td>4</td>\n      <td>140.0</td>\n      <td>92.0</td>\n      <td>2865</td>\n      <td>16.4</td>\n      <td>82</td>\n      <td>1</td>\n      <td>ford fairmont futura</td>\n    </tr>\n    <tr>\n      <th>382</th>\n      <td>23.0</td>\n      <td>4</td>\n      <td>151.0</td>\n      <td>0.0</td>\n      <td>3035</td>\n      <td>20.5</td>\n      <td>82</td>\n      <td>1</td>\n      <td>amc concord dl</td>\n    </tr>\n    <tr>\n      <th>383</th>\n      <td>36.0</td>\n      <td>4</td>\n      <td>105.0</td>\n      <td>74.0</td>\n      <td>1980</td>\n      <td>15.3</td>\n      <td>82</td>\n      <td>2</td>\n      <td>volkswagen rabbit l</td>\n    </tr>\n    <tr>\n      <th>384</th>\n      <td>37.0</td>\n      <td>4</td>\n      <td>91.0</td>\n      <td>68.0</td>\n      <td>2025</td>\n      <td>18.2</td>\n      <td>82</td>\n      <td>3</td>\n      <td>mazda glc custom l</td>\n    </tr>\n    <tr>\n      <th>385</th>\n      <td>31.0</td>\n      <td>4</td>\n      <td>91.0</td>\n      <td>68.0</td>\n      <td>1970</td>\n      <td>17.6</td>\n      <td>82</td>\n      <td>3</td>\n      <td>mazda glc custom</td>\n    </tr>\n    <tr>\n      <th>386</th>\n      <td>38.0</td>\n      <td>4</td>\n      <td>105.0</td>\n      <td>63.0</td>\n      <td>2125</td>\n      <td>14.7</td>\n      <td>82</td>\n      <td>1</td>\n      <td>plymouth horizon miser</td>\n    </tr>\n    <tr>\n      <th>387</th>\n      <td>36.0</td>\n      <td>4</td>\n      <td>98.0</td>\n      <td>70.0</td>\n      <td>2125</td>\n      <td>17.3</td>\n      <td>82</td>\n      <td>1</td>\n      <td>mercury lynx l</td>\n    </tr>\n    <tr>\n      <th>388</th>\n      <td>36.0</td>\n      <td>4</td>\n      <td>120.0</td>\n      <td>88.0</td>\n      <td>2160</td>\n      <td>14.5</td>\n      <td>82</td>\n      <td>3</td>\n      <td>nissan stanza xe</td>\n    </tr>\n    <tr>\n      <th>389</th>\n      <td>36.0</td>\n      <td>4</td>\n      <td>107.0</td>\n      <td>75.0</td>\n      <td>2205</td>\n      <td>14.5</td>\n      <td>82</td>\n      <td>3</td>\n      <td>honda accord</td>\n    </tr>\n    <tr>\n      <th>390</th>\n      <td>34.0</td>\n      <td>4</td>\n      <td>108.0</td>\n      <td>70.0</td>\n      <td>2245</td>\n      <td>16.9</td>\n      <td>82</td>\n      <td>3</td>\n      <td>toyota corolla</td>\n    </tr>\n    <tr>\n      <th>391</th>\n      <td>38.0</td>\n      <td>4</td>\n      <td>91.0</td>\n      <td>67.0</td>\n      <td>1965</td>\n      <td>15.0</td>\n      <td>82</td>\n      <td>3</td>\n      <td>honda civic</td>\n    </tr>\n    <tr>\n      <th>392</th>\n      <td>32.0</td>\n      <td>4</td>\n      <td>91.0</td>\n      <td>67.0</td>\n      <td>1965</td>\n      <td>15.7</td>\n      <td>82</td>\n      <td>3</td>\n      <td>honda civic (auto)</td>\n    </tr>\n    <tr>\n      <th>393</th>\n      <td>38.0</td>\n      <td>4</td>\n      <td>91.0</td>\n      <td>67.0</td>\n      <td>1995</td>\n      <td>16.2</td>\n      <td>82</td>\n      <td>3</td>\n      <td>datsun 310 gx</td>\n    </tr>\n    <tr>\n      <th>394</th>\n      <td>25.0</td>\n      <td>6</td>\n      <td>181.0</td>\n      <td>110.0</td>\n      <td>2945</td>\n      <td>16.4</td>\n      <td>82</td>\n      <td>1</td>\n      <td>buick century limited</td>\n    </tr>\n    <tr>\n      <th>395</th>\n      <td>38.0</td>\n      <td>6</td>\n      <td>262.0</td>\n      <td>85.0</td>\n      <td>3015</td>\n      <td>17.0</td>\n      <td>82</td>\n      <td>1</td>\n      <td>oldsmobile cutlass ciera (diesel)</td>\n    </tr>\n    <tr>\n      <th>396</th>\n      <td>26.0</td>\n      <td>4</td>\n      <td>156.0</td>\n      <td>92.0</td>\n      <td>2585</td>\n      <td>14.5</td>\n      <td>82</td>\n      <td>1</td>\n      <td>chrysler lebaron medallion</td>\n    </tr>\n    <tr>\n      <th>397</th>\n      <td>22.0</td>\n      <td>6</td>\n      <td>232.0</td>\n      <td>112.0</td>\n      <td>2835</td>\n      <td>14.7</td>\n      <td>82</td>\n      <td>1</td>\n      <td>ford granada l</td>\n    </tr>\n    <tr>\n      <th>398</th>\n      <td>32.0</td>\n      <td>4</td>\n      <td>144.0</td>\n      <td>96.0</td>\n      <td>2665</td>\n      <td>13.9</td>\n      <td>82</td>\n      <td>3</td>\n      <td>toyota celica gt</td>\n    </tr>\n    <tr>\n      <th>399</th>\n      <td>36.0</td>\n      <td>4</td>\n      <td>135.0</td>\n      <td>84.0</td>\n      <td>2370</td>\n      <td>13.0</td>\n      <td>82</td>\n      <td>1</td>\n      <td>dodge charger 2.2</td>\n    </tr>\n    <tr>\n      <th>400</th>\n      <td>27.0</td>\n      <td>4</td>\n      <td>151.0</td>\n      <td>90.0</td>\n      <td>2950</td>\n      <td>17.3</td>\n      <td>82</td>\n      <td>1</td>\n      <td>chevrolet camaro</td>\n    </tr>\n    <tr>\n      <th>401</th>\n      <td>27.0</td>\n      <td>4</td>\n      <td>140.0</td>\n      <td>86.0</td>\n      <td>2790</td>\n      <td>15.6</td>\n      <td>82</td>\n      <td>1</td>\n      <td>ford mustang gl</td>\n    </tr>\n    <tr>\n      <th>402</th>\n      <td>44.0</td>\n      <td>4</td>\n      <td>97.0</td>\n      <td>52.0</td>\n      <td>2130</td>\n      <td>24.6</td>\n      <td>82</td>\n      <td>2</td>\n      <td>vw pickup</td>\n    </tr>\n    <tr>\n      <th>403</th>\n      <td>32.0</td>\n      <td>4</td>\n      <td>135.0</td>\n      <td>84.0</td>\n      <td>2295</td>\n      <td>11.6</td>\n      <td>82</td>\n      <td>1</td>\n      <td>dodge rampage</td>\n    </tr>\n    <tr>\n      <th>404</th>\n      <td>28.0</td>\n      <td>4</td>\n      <td>120.0</td>\n      <td>79.0</td>\n      <td>2625</td>\n      <td>18.6</td>\n      <td>82</td>\n      <td>1</td>\n      <td>ford ranger</td>\n    </tr>\n    <tr>\n      <th>405</th>\n      <td>31.0</td>\n      <td>4</td>\n      <td>119.0</td>\n      <td>82.0</td>\n      <td>2720</td>\n      <td>19.4</td>\n      <td>82</td>\n      <td>1</td>\n      <td>chevy s-10</td>\n    </tr>\n  </tbody>\n</table>\n<p>406 rows × 9 columns</p>\n</div>",
            "text/plain": "      mpg  cyl  displacement     hp  weight  acceleration  year  origin  \\\n0    18.0    8         307.0  130.0    3504          12.0    70       1   \n1    15.0    8         350.0  165.0    3693          11.5    70       1   \n2    18.0    8         318.0  150.0    3436          11.0    70       1   \n3    16.0    8         304.0  150.0    3433          12.0    70       1   \n4    17.0    8         302.0  140.0    3449          10.5    70       1   \n5    15.0    8         429.0  198.0    4341          10.0    70       1   \n6    14.0    8         454.0  220.0    4354           9.0    70       1   \n7    14.0    8         440.0  215.0    4312           8.5    70       1   \n8    14.0    8         455.0  225.0    4425          10.0    70       1   \n9    15.0    8         390.0  190.0    3850           8.5    70       1   \n10    NaN    4         133.0  115.0    3090          17.5    70       2   \n11    NaN    8         350.0  165.0    4142          11.5    70       1   \n12    NaN    8         351.0  153.0    4034          11.0    70       1   \n13    NaN    8         383.0  175.0    4166          10.5    70       1   \n14    NaN    8         360.0  175.0    3850          11.0    70       1   \n15   15.0    8         383.0  170.0    3563          10.0    70       1   \n16   14.0    8         340.0  160.0    3609           8.0    70       1   \n17    NaN    8         302.0  140.0    3353           8.0    70       1   \n18   15.0    8         400.0  150.0    3761           9.5    70       1   \n19   14.0    8         455.0  225.0    3086          10.0    70       1   \n20   24.0    4         113.0   95.0    2372          15.0    70       3   \n21   22.0    6         198.0   95.0    2833          15.5    70       1   \n22   18.0    6         199.0   97.0    2774          15.5    70       1   \n23   21.0    6         200.0   85.0    2587          16.0    70       1   \n24   27.0    4          97.0   88.0    2130          14.5    70       3   \n25   26.0    4          97.0   46.0    1835          20.5    70       2   \n26   25.0    4         110.0   87.0    2672          17.5    70       2   \n27   24.0    4         107.0   90.0    2430          14.5    70       2   \n28   25.0    4         104.0   95.0    2375          17.5    70       2   \n29   26.0    4         121.0  113.0    2234          12.5    70       2   \n..    ...  ...           ...    ...     ...           ...   ...     ...   \n376  27.0    4         112.0   88.0    2640          18.6    82       1   \n377  34.0    4         112.0   88.0    2395          18.0    82       1   \n378  31.0    4         112.0   85.0    2575          16.2    82       1   \n379  29.0    4         135.0   84.0    2525          16.0    82       1   \n380  27.0    4         151.0   90.0    2735          18.0    82       1   \n381  24.0    4         140.0   92.0    2865          16.4    82       1   \n382  23.0    4         151.0    0.0    3035          20.5    82       1   \n383  36.0    4         105.0   74.0    1980          15.3    82       2   \n384  37.0    4          91.0   68.0    2025          18.2    82       3   \n385  31.0    4          91.0   68.0    1970          17.6    82       3   \n386  38.0    4         105.0   63.0    2125          14.7    82       1   \n387  36.0    4          98.0   70.0    2125          17.3    82       1   \n388  36.0    4         120.0   88.0    2160          14.5    82       3   \n389  36.0    4         107.0   75.0    2205          14.5    82       3   \n390  34.0    4         108.0   70.0    2245          16.9    82       3   \n391  38.0    4          91.0   67.0    1965          15.0    82       3   \n392  32.0    4          91.0   67.0    1965          15.7    82       3   \n393  38.0    4          91.0   67.0    1995          16.2    82       3   \n394  25.0    6         181.0  110.0    2945          16.4    82       1   \n395  38.0    6         262.0   85.0    3015          17.0    82       1   \n396  26.0    4         156.0   92.0    2585          14.5    82       1   \n397  22.0    6         232.0  112.0    2835          14.7    82       1   \n398  32.0    4         144.0   96.0    2665          13.9    82       3   \n399  36.0    4         135.0   84.0    2370          13.0    82       1   \n400  27.0    4         151.0   90.0    2950          17.3    82       1   \n401  27.0    4         140.0   86.0    2790          15.6    82       1   \n402  44.0    4          97.0   52.0    2130          24.6    82       2   \n403  32.0    4         135.0   84.0    2295          11.6    82       1   \n404  28.0    4         120.0   79.0    2625          18.6    82       1   \n405  31.0    4         119.0   82.0    2720          19.4    82       1   \n\n                                  name  \n0            chevrolet chevelle malibu  \n1                    buick skylark 320  \n2                   plymouth satellite  \n3                        amc rebel sst  \n4                          ford torino  \n5                     ford galaxie 500  \n6                     chevrolet impala  \n7                    plymouth fury iii  \n8                     pontiac catalina  \n9                   amc ambassador dpl  \n10                citroen ds-21 pallas  \n11    chevrolet chevelle concours (sw)  \n12                    ford torino (sw)  \n13             plymouth satellite (sw)  \n14                  amc rebel sst (sw)  \n15                 dodge challenger se  \n16                  plymouth 'cuda 340  \n17               ford mustang boss 302  \n18               chevrolet monte carlo  \n19             buick estate wagon (sw)  \n20               toyota corona mark ii  \n21                     plymouth duster  \n22                          amc hornet  \n23                       ford maverick  \n24                        datsun pl510  \n25        volkswagen 1131 deluxe sedan  \n26                         peugeot 504  \n27                         audi 100 ls  \n28                            saab 99e  \n29                            bmw 2002  \n..                                 ...  \n376           chevrolet cavalier wagon  \n377          chevrolet cavalier 2-door  \n378         pontiac j2000 se hatchback  \n379                     dodge aries se  \n380                    pontiac phoenix  \n381               ford fairmont futura  \n382                     amc concord dl  \n383                volkswagen rabbit l  \n384                 mazda glc custom l  \n385                   mazda glc custom  \n386             plymouth horizon miser  \n387                     mercury lynx l  \n388                   nissan stanza xe  \n389                       honda accord  \n390                     toyota corolla  \n391                        honda civic  \n392                 honda civic (auto)  \n393                      datsun 310 gx  \n394              buick century limited  \n395  oldsmobile cutlass ciera (diesel)  \n396         chrysler lebaron medallion  \n397                     ford granada l  \n398                   toyota celica gt  \n399                  dodge charger 2.2  \n400                   chevrolet camaro  \n401                    ford mustang gl  \n402                          vw pickup  \n403                      dodge rampage  \n404                        ford ranger  \n405                         chevy s-10  \n\n[406 rows x 9 columns]"
          },
          "metadata": {}
        }
      ]
    },
    {
      "metadata": {
        "trusted": true
      },
      "cell_type": "code",
      "source": "cars['ifhp'].value_counts()",
      "execution_count": 31,
      "outputs": [
        {
          "output_type": "execute_result",
          "execution_count": 31,
          "data": {
            "text/plain": "False    405\nTrue       1\nName: ifhp, dtype: int64"
          },
          "metadata": {}
        }
      ]
    },
    {
      "metadata": {
        "trusted": true
      },
      "cell_type": "code",
      "source": "",
      "execution_count": null,
      "outputs": []
    },
    {
      "metadata": {
        "trusted": true
      },
      "cell_type": "code",
      "source": "",
      "execution_count": null,
      "outputs": []
    }
  ],
  "metadata": {
    "kernelspec": {
      "name": "python36",
      "display_name": "Python 3.6",
      "language": "python"
    },
    "language_info": {
      "mimetype": "text/x-python",
      "nbconvert_exporter": "python",
      "name": "python",
      "pygments_lexer": "ipython3",
      "version": "3.6.6",
      "file_extension": ".py",
      "codemirror_mode": {
        "version": 3,
        "name": "ipython"
      }
    }
  },
  "nbformat": 4,
  "nbformat_minor": 2
}