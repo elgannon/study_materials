{
  "cells": [
    {
      "metadata": {
        "trusted": true
      },
      "cell_type": "code",
      "source": "import pandas as pd\nimport matplotlib.pyplot as plt",
      "execution_count": 34,
      "outputs": []
    },
    {
      "metadata": {
        "trusted": true
      },
      "cell_type": "code",
      "source": "netflix_data = pd.read_csv(\"netflix_titles.csv\")\nnetflix_data.head()",
      "execution_count": 35,
      "outputs": [
        {
          "output_type": "execute_result",
          "execution_count": 35,
          "data": {
            "text/html": "<div>\n<style scoped>\n    .dataframe tbody tr th:only-of-type {\n        vertical-align: middle;\n    }\n\n    .dataframe tbody tr th {\n        vertical-align: top;\n    }\n\n    .dataframe thead th {\n        text-align: right;\n    }\n</style>\n<table border=\"1\" class=\"dataframe\">\n  <thead>\n    <tr style=\"text-align: right;\">\n      <th></th>\n      <th>show_id</th>\n      <th>type</th>\n      <th>title</th>\n      <th>director</th>\n      <th>cast</th>\n      <th>country</th>\n      <th>date_added</th>\n      <th>release_year</th>\n      <th>rating</th>\n      <th>duration</th>\n      <th>listed_in</th>\n      <th>description</th>\n    </tr>\n  </thead>\n  <tbody>\n    <tr>\n      <th>0</th>\n      <td>81145628</td>\n      <td>Movie</td>\n      <td>Norm of the North: King Sized Adventure</td>\n      <td>Richard Finn, Tim Maltby</td>\n      <td>Alan Marriott, Andrew Toth, Brian Dobson, Cole...</td>\n      <td>United States, India, South Korea, China</td>\n      <td>September 9, 2019</td>\n      <td>2019</td>\n      <td>TV-PG</td>\n      <td>90 min</td>\n      <td>Children &amp; Family Movies, Comedies</td>\n      <td>Before planning an awesome wedding for his gra...</td>\n    </tr>\n    <tr>\n      <th>1</th>\n      <td>80117401</td>\n      <td>Movie</td>\n      <td>Jandino: Whatever it Takes</td>\n      <td>NaN</td>\n      <td>Jandino Asporaat</td>\n      <td>United Kingdom</td>\n      <td>September 9, 2016</td>\n      <td>2016</td>\n      <td>TV-MA</td>\n      <td>94 min</td>\n      <td>Stand-Up Comedy</td>\n      <td>Jandino Asporaat riffs on the challenges of ra...</td>\n    </tr>\n    <tr>\n      <th>2</th>\n      <td>70234439</td>\n      <td>TV Show</td>\n      <td>Transformers Prime</td>\n      <td>NaN</td>\n      <td>Peter Cullen, Sumalee Montano, Frank Welker, J...</td>\n      <td>United States</td>\n      <td>September 8, 2018</td>\n      <td>2013</td>\n      <td>TV-Y7-FV</td>\n      <td>1 Season</td>\n      <td>Kids' TV</td>\n      <td>With the help of three human allies, the Autob...</td>\n    </tr>\n    <tr>\n      <th>3</th>\n      <td>80058654</td>\n      <td>TV Show</td>\n      <td>Transformers: Robots in Disguise</td>\n      <td>NaN</td>\n      <td>Will Friedle, Darren Criss, Constance Zimmer, ...</td>\n      <td>United States</td>\n      <td>September 8, 2018</td>\n      <td>2016</td>\n      <td>TV-Y7</td>\n      <td>1 Season</td>\n      <td>Kids' TV</td>\n      <td>When a prison ship crash unleashes hundreds of...</td>\n    </tr>\n    <tr>\n      <th>4</th>\n      <td>80125979</td>\n      <td>Movie</td>\n      <td>#realityhigh</td>\n      <td>Fernando Lebrija</td>\n      <td>Nesta Cooper, Kate Walsh, John Michael Higgins...</td>\n      <td>United States</td>\n      <td>September 8, 2017</td>\n      <td>2017</td>\n      <td>TV-14</td>\n      <td>99 min</td>\n      <td>Comedies</td>\n      <td>When nerdy high schooler Dani finally attracts...</td>\n    </tr>\n  </tbody>\n</table>\n</div>",
            "text/plain": "    show_id     type                                    title  \\\n0  81145628    Movie  Norm of the North: King Sized Adventure   \n1  80117401    Movie               Jandino: Whatever it Takes   \n2  70234439  TV Show                       Transformers Prime   \n3  80058654  TV Show         Transformers: Robots in Disguise   \n4  80125979    Movie                             #realityhigh   \n\n                   director  \\\n0  Richard Finn, Tim Maltby   \n1                       NaN   \n2                       NaN   \n3                       NaN   \n4          Fernando Lebrija   \n\n                                                cast  \\\n0  Alan Marriott, Andrew Toth, Brian Dobson, Cole...   \n1                                   Jandino Asporaat   \n2  Peter Cullen, Sumalee Montano, Frank Welker, J...   \n3  Will Friedle, Darren Criss, Constance Zimmer, ...   \n4  Nesta Cooper, Kate Walsh, John Michael Higgins...   \n\n                                    country         date_added  release_year  \\\n0  United States, India, South Korea, China  September 9, 2019          2019   \n1                            United Kingdom  September 9, 2016          2016   \n2                             United States  September 8, 2018          2013   \n3                             United States  September 8, 2018          2016   \n4                             United States  September 8, 2017          2017   \n\n     rating  duration                           listed_in  \\\n0     TV-PG    90 min  Children & Family Movies, Comedies   \n1     TV-MA    94 min                     Stand-Up Comedy   \n2  TV-Y7-FV  1 Season                            Kids' TV   \n3     TV-Y7  1 Season                            Kids' TV   \n4     TV-14    99 min                            Comedies   \n\n                                         description  \n0  Before planning an awesome wedding for his gra...  \n1  Jandino Asporaat riffs on the challenges of ra...  \n2  With the help of three human allies, the Autob...  \n3  When a prison ship crash unleashes hundreds of...  \n4  When nerdy high schooler Dani finally attracts...  "
          },
          "metadata": {}
        }
      ]
    },
    {
      "metadata": {
        "trusted": true
      },
      "cell_type": "code",
      "source": "netflix_data.shape",
      "execution_count": 36,
      "outputs": [
        {
          "output_type": "execute_result",
          "execution_count": 36,
          "data": {
            "text/plain": "(6234, 12)"
          },
          "metadata": {}
        }
      ]
    },
    {
      "metadata": {
        "trusted": true
      },
      "cell_type": "code",
      "source": "netflix_data.dtypes",
      "execution_count": 37,
      "outputs": [
        {
          "output_type": "execute_result",
          "execution_count": 37,
          "data": {
            "text/plain": "show_id          int64\ntype            object\ntitle           object\ndirector        object\ncast            object\ncountry         object\ndate_added      object\nrelease_year     int64\nrating          object\nduration        object\nlisted_in       object\ndescription     object\ndtype: object"
          },
          "metadata": {}
        }
      ]
    },
    {
      "metadata": {
        "trusted": true
      },
      "cell_type": "code",
      "source": "netflix_data.describe()",
      "execution_count": 38,
      "outputs": [
        {
          "output_type": "execute_result",
          "execution_count": 38,
          "data": {
            "text/html": "<div>\n<style scoped>\n    .dataframe tbody tr th:only-of-type {\n        vertical-align: middle;\n    }\n\n    .dataframe tbody tr th {\n        vertical-align: top;\n    }\n\n    .dataframe thead th {\n        text-align: right;\n    }\n</style>\n<table border=\"1\" class=\"dataframe\">\n  <thead>\n    <tr style=\"text-align: right;\">\n      <th></th>\n      <th>show_id</th>\n      <th>release_year</th>\n    </tr>\n  </thead>\n  <tbody>\n    <tr>\n      <th>count</th>\n      <td>6.234000e+03</td>\n      <td>6234.00000</td>\n    </tr>\n    <tr>\n      <th>mean</th>\n      <td>7.670368e+07</td>\n      <td>2013.35932</td>\n    </tr>\n    <tr>\n      <th>std</th>\n      <td>1.094296e+07</td>\n      <td>8.81162</td>\n    </tr>\n    <tr>\n      <th>min</th>\n      <td>2.477470e+05</td>\n      <td>1925.00000</td>\n    </tr>\n    <tr>\n      <th>25%</th>\n      <td>8.003580e+07</td>\n      <td>2013.00000</td>\n    </tr>\n    <tr>\n      <th>50%</th>\n      <td>8.016337e+07</td>\n      <td>2016.00000</td>\n    </tr>\n    <tr>\n      <th>75%</th>\n      <td>8.024489e+07</td>\n      <td>2018.00000</td>\n    </tr>\n    <tr>\n      <th>max</th>\n      <td>8.123573e+07</td>\n      <td>2020.00000</td>\n    </tr>\n  </tbody>\n</table>\n</div>",
            "text/plain": "            show_id  release_year\ncount  6.234000e+03    6234.00000\nmean   7.670368e+07    2013.35932\nstd    1.094296e+07       8.81162\nmin    2.477470e+05    1925.00000\n25%    8.003580e+07    2013.00000\n50%    8.016337e+07    2016.00000\n75%    8.024489e+07    2018.00000\nmax    8.123573e+07    2020.00000"
          },
          "metadata": {}
        }
      ]
    },
    {
      "metadata": {
        "trusted": true
      },
      "cell_type": "code",
      "source": "netflix_data.isnull().any()",
      "execution_count": 39,
      "outputs": [
        {
          "output_type": "execute_result",
          "execution_count": 39,
          "data": {
            "text/plain": "show_id         False\ntype            False\ntitle           False\ndirector         True\ncast             True\ncountry          True\ndate_added       True\nrelease_year    False\nrating           True\nduration        False\nlisted_in       False\ndescription     False\ndtype: bool"
          },
          "metadata": {}
        }
      ]
    },
    {
      "metadata": {
        "trusted": true
      },
      "cell_type": "code",
      "source": "netflix_data.nunique()",
      "execution_count": 40,
      "outputs": [
        {
          "output_type": "execute_result",
          "execution_count": 40,
          "data": {
            "text/plain": "show_id         6234\ntype               2\ntitle           6172\ndirector        3301\ncast            5469\ncountry          554\ndate_added      1524\nrelease_year      72\nrating            14\nduration         201\nlisted_in        461\ndescription     6226\ndtype: int64"
          },
          "metadata": {}
        }
      ]
    },
    {
      "metadata": {
        "trusted": true
      },
      "cell_type": "code",
      "source": "netflix_data.isnull().sum()",
      "execution_count": 41,
      "outputs": [
        {
          "output_type": "execute_result",
          "execution_count": 41,
          "data": {
            "text/plain": "show_id            0\ntype               0\ntitle              0\ndirector        1969\ncast             570\ncountry          476\ndate_added        11\nrelease_year       0\nrating            10\nduration           0\nlisted_in          0\ndescription        0\ndtype: int64"
          },
          "metadata": {}
        }
      ]
    },
    {
      "metadata": {
        "trusted": true
      },
      "cell_type": "code",
      "source": "",
      "execution_count": null,
      "outputs": []
    },
    {
      "metadata": {
        "trusted": true
      },
      "cell_type": "code",
      "source": "dupes = netflix_data.duplicated()\ndupes.head()",
      "execution_count": 42,
      "outputs": [
        {
          "output_type": "execute_result",
          "execution_count": 42,
          "data": {
            "text/plain": "0    False\n1    False\n2    False\n3    False\n4    False\ndtype: bool"
          },
          "metadata": {}
        }
      ]
    },
    {
      "metadata": {
        "trusted": true
      },
      "cell_type": "code",
      "source": "netflix_data.head(10)",
      "execution_count": 43,
      "outputs": [
        {
          "output_type": "execute_result",
          "execution_count": 43,
          "data": {
            "text/html": "<div>\n<style scoped>\n    .dataframe tbody tr th:only-of-type {\n        vertical-align: middle;\n    }\n\n    .dataframe tbody tr th {\n        vertical-align: top;\n    }\n\n    .dataframe thead th {\n        text-align: right;\n    }\n</style>\n<table border=\"1\" class=\"dataframe\">\n  <thead>\n    <tr style=\"text-align: right;\">\n      <th></th>\n      <th>show_id</th>\n      <th>type</th>\n      <th>title</th>\n      <th>director</th>\n      <th>cast</th>\n      <th>country</th>\n      <th>date_added</th>\n      <th>release_year</th>\n      <th>rating</th>\n      <th>duration</th>\n      <th>listed_in</th>\n      <th>description</th>\n    </tr>\n  </thead>\n  <tbody>\n    <tr>\n      <th>0</th>\n      <td>81145628</td>\n      <td>Movie</td>\n      <td>Norm of the North: King Sized Adventure</td>\n      <td>Richard Finn, Tim Maltby</td>\n      <td>Alan Marriott, Andrew Toth, Brian Dobson, Cole...</td>\n      <td>United States, India, South Korea, China</td>\n      <td>September 9, 2019</td>\n      <td>2019</td>\n      <td>TV-PG</td>\n      <td>90 min</td>\n      <td>Children &amp; Family Movies, Comedies</td>\n      <td>Before planning an awesome wedding for his gra...</td>\n    </tr>\n    <tr>\n      <th>1</th>\n      <td>80117401</td>\n      <td>Movie</td>\n      <td>Jandino: Whatever it Takes</td>\n      <td>NaN</td>\n      <td>Jandino Asporaat</td>\n      <td>United Kingdom</td>\n      <td>September 9, 2016</td>\n      <td>2016</td>\n      <td>TV-MA</td>\n      <td>94 min</td>\n      <td>Stand-Up Comedy</td>\n      <td>Jandino Asporaat riffs on the challenges of ra...</td>\n    </tr>\n    <tr>\n      <th>2</th>\n      <td>70234439</td>\n      <td>TV Show</td>\n      <td>Transformers Prime</td>\n      <td>NaN</td>\n      <td>Peter Cullen, Sumalee Montano, Frank Welker, J...</td>\n      <td>United States</td>\n      <td>September 8, 2018</td>\n      <td>2013</td>\n      <td>TV-Y7-FV</td>\n      <td>1 Season</td>\n      <td>Kids' TV</td>\n      <td>With the help of three human allies, the Autob...</td>\n    </tr>\n    <tr>\n      <th>3</th>\n      <td>80058654</td>\n      <td>TV Show</td>\n      <td>Transformers: Robots in Disguise</td>\n      <td>NaN</td>\n      <td>Will Friedle, Darren Criss, Constance Zimmer, ...</td>\n      <td>United States</td>\n      <td>September 8, 2018</td>\n      <td>2016</td>\n      <td>TV-Y7</td>\n      <td>1 Season</td>\n      <td>Kids' TV</td>\n      <td>When a prison ship crash unleashes hundreds of...</td>\n    </tr>\n    <tr>\n      <th>4</th>\n      <td>80125979</td>\n      <td>Movie</td>\n      <td>#realityhigh</td>\n      <td>Fernando Lebrija</td>\n      <td>Nesta Cooper, Kate Walsh, John Michael Higgins...</td>\n      <td>United States</td>\n      <td>September 8, 2017</td>\n      <td>2017</td>\n      <td>TV-14</td>\n      <td>99 min</td>\n      <td>Comedies</td>\n      <td>When nerdy high schooler Dani finally attracts...</td>\n    </tr>\n    <tr>\n      <th>5</th>\n      <td>80163890</td>\n      <td>TV Show</td>\n      <td>Apaches</td>\n      <td>NaN</td>\n      <td>Alberto Ammann, Eloy Azorín, Verónica Echegui,...</td>\n      <td>Spain</td>\n      <td>September 8, 2017</td>\n      <td>2016</td>\n      <td>TV-MA</td>\n      <td>1 Season</td>\n      <td>Crime TV Shows, International TV Shows, Spanis...</td>\n      <td>A young journalist is forced into a life of cr...</td>\n    </tr>\n    <tr>\n      <th>6</th>\n      <td>70304989</td>\n      <td>Movie</td>\n      <td>Automata</td>\n      <td>Gabe Ibáñez</td>\n      <td>Antonio Banderas, Dylan McDermott, Melanie Gri...</td>\n      <td>Bulgaria, United States, Spain, Canada</td>\n      <td>September 8, 2017</td>\n      <td>2014</td>\n      <td>R</td>\n      <td>110 min</td>\n      <td>International Movies, Sci-Fi &amp; Fantasy, Thrillers</td>\n      <td>In a dystopian future, an insurance adjuster f...</td>\n    </tr>\n    <tr>\n      <th>7</th>\n      <td>80164077</td>\n      <td>Movie</td>\n      <td>Fabrizio Copano: Solo pienso en mi</td>\n      <td>Rodrigo Toro, Francisco Schultz</td>\n      <td>Fabrizio Copano</td>\n      <td>Chile</td>\n      <td>September 8, 2017</td>\n      <td>2017</td>\n      <td>TV-MA</td>\n      <td>60 min</td>\n      <td>Stand-Up Comedy</td>\n      <td>Fabrizio Copano takes audience participation t...</td>\n    </tr>\n    <tr>\n      <th>8</th>\n      <td>80117902</td>\n      <td>TV Show</td>\n      <td>Fire Chasers</td>\n      <td>NaN</td>\n      <td>NaN</td>\n      <td>United States</td>\n      <td>September 8, 2017</td>\n      <td>2017</td>\n      <td>TV-MA</td>\n      <td>1 Season</td>\n      <td>Docuseries, Science &amp; Nature TV</td>\n      <td>As California's 2016 fire season rages, brave ...</td>\n    </tr>\n    <tr>\n      <th>9</th>\n      <td>70304990</td>\n      <td>Movie</td>\n      <td>Good People</td>\n      <td>Henrik Ruben Genz</td>\n      <td>James Franco, Kate Hudson, Tom Wilkinson, Omar...</td>\n      <td>United States, United Kingdom, Denmark, Sweden</td>\n      <td>September 8, 2017</td>\n      <td>2014</td>\n      <td>R</td>\n      <td>90 min</td>\n      <td>Action &amp; Adventure, Thrillers</td>\n      <td>A struggling couple can't believe their luck w...</td>\n    </tr>\n  </tbody>\n</table>\n</div>",
            "text/plain": "    show_id     type                                    title  \\\n0  81145628    Movie  Norm of the North: King Sized Adventure   \n1  80117401    Movie               Jandino: Whatever it Takes   \n2  70234439  TV Show                       Transformers Prime   \n3  80058654  TV Show         Transformers: Robots in Disguise   \n4  80125979    Movie                             #realityhigh   \n5  80163890  TV Show                                  Apaches   \n6  70304989    Movie                                 Automata   \n7  80164077    Movie       Fabrizio Copano: Solo pienso en mi   \n8  80117902  TV Show                             Fire Chasers   \n9  70304990    Movie                              Good People   \n\n                          director  \\\n0         Richard Finn, Tim Maltby   \n1                              NaN   \n2                              NaN   \n3                              NaN   \n4                 Fernando Lebrija   \n5                              NaN   \n6                      Gabe Ibáñez   \n7  Rodrigo Toro, Francisco Schultz   \n8                              NaN   \n9                Henrik Ruben Genz   \n\n                                                cast  \\\n0  Alan Marriott, Andrew Toth, Brian Dobson, Cole...   \n1                                   Jandino Asporaat   \n2  Peter Cullen, Sumalee Montano, Frank Welker, J...   \n3  Will Friedle, Darren Criss, Constance Zimmer, ...   \n4  Nesta Cooper, Kate Walsh, John Michael Higgins...   \n5  Alberto Ammann, Eloy Azorín, Verónica Echegui,...   \n6  Antonio Banderas, Dylan McDermott, Melanie Gri...   \n7                                    Fabrizio Copano   \n8                                                NaN   \n9  James Franco, Kate Hudson, Tom Wilkinson, Omar...   \n\n                                          country         date_added  \\\n0        United States, India, South Korea, China  September 9, 2019   \n1                                  United Kingdom  September 9, 2016   \n2                                   United States  September 8, 2018   \n3                                   United States  September 8, 2018   \n4                                   United States  September 8, 2017   \n5                                           Spain  September 8, 2017   \n6          Bulgaria, United States, Spain, Canada  September 8, 2017   \n7                                           Chile  September 8, 2017   \n8                                   United States  September 8, 2017   \n9  United States, United Kingdom, Denmark, Sweden  September 8, 2017   \n\n   release_year    rating  duration  \\\n0          2019     TV-PG    90 min   \n1          2016     TV-MA    94 min   \n2          2013  TV-Y7-FV  1 Season   \n3          2016     TV-Y7  1 Season   \n4          2017     TV-14    99 min   \n5          2016     TV-MA  1 Season   \n6          2014         R   110 min   \n7          2017     TV-MA    60 min   \n8          2017     TV-MA  1 Season   \n9          2014         R    90 min   \n\n                                           listed_in  \\\n0                 Children & Family Movies, Comedies   \n1                                    Stand-Up Comedy   \n2                                           Kids' TV   \n3                                           Kids' TV   \n4                                           Comedies   \n5  Crime TV Shows, International TV Shows, Spanis...   \n6  International Movies, Sci-Fi & Fantasy, Thrillers   \n7                                    Stand-Up Comedy   \n8                    Docuseries, Science & Nature TV   \n9                      Action & Adventure, Thrillers   \n\n                                         description  \n0  Before planning an awesome wedding for his gra...  \n1  Jandino Asporaat riffs on the challenges of ra...  \n2  With the help of three human allies, the Autob...  \n3  When a prison ship crash unleashes hundreds of...  \n4  When nerdy high schooler Dani finally attracts...  \n5  A young journalist is forced into a life of cr...  \n6  In a dystopian future, an insurance adjuster f...  \n7  Fabrizio Copano takes audience participation t...  \n8  As California's 2016 fire season rages, brave ...  \n9  A struggling couple can't believe their luck w...  "
          },
          "metadata": {}
        }
      ]
    },
    {
      "metadata": {
        "trusted": true
      },
      "cell_type": "code",
      "source": "netflix_data.isnull().sum()",
      "execution_count": 45,
      "outputs": [
        {
          "output_type": "execute_result",
          "execution_count": 45,
          "data": {
            "text/plain": "show_id            0\ntype               0\ntitle              0\ndirector        1969\ncast             570\ncountry          476\ndate_added        11\nrelease_year       0\nrating            10\nduration           0\nlisted_in          0\ndescription        0\ndtype: int64"
          },
          "metadata": {}
        }
      ]
    },
    {
      "metadata": {
        "trusted": true
      },
      "cell_type": "code",
      "source": "netflix_data2 = netflix_data[netflix_data['rating'].notna()]",
      "execution_count": 47,
      "outputs": []
    },
    {
      "metadata": {
        "trusted": true
      },
      "cell_type": "code",
      "source": "netflix_data2.isnull().sum()",
      "execution_count": 48,
      "outputs": [
        {
          "output_type": "execute_result",
          "execution_count": 48,
          "data": {
            "text/plain": "show_id            0\ntype               0\ntitle              0\ndirector        1965\ncast             567\ncountry          472\ndate_added        10\nrelease_year       0\nrating             0\nduration           0\nlisted_in          0\ndescription        0\ndtype: int64"
          },
          "metadata": {}
        }
      ]
    },
    {
      "metadata": {
        "trusted": true
      },
      "cell_type": "code",
      "source": "netflix_data2['rating'].value_counts()",
      "execution_count": 51,
      "outputs": [
        {
          "output_type": "execute_result",
          "execution_count": 51,
          "data": {
            "text/plain": "TV-MA       2027\nTV-14       1698\nTV-PG        701\nR            508\nPG-13        286\nNR           218\nPG           184\nTV-Y7        169\nTV-G         149\nTV-Y         143\nTV-Y7-FV      95\nG             37\nUR             7\nNC-17          2\nName: rating, dtype: int64"
          },
          "metadata": {}
        }
      ]
    },
    {
      "metadata": {
        "trusted": true
      },
      "cell_type": "code",
      "source": "netflix_data2['rating'].value_counts()",
      "execution_count": 55,
      "outputs": [
        {
          "output_type": "execute_result",
          "execution_count": 55,
          "data": {
            "text/plain": "TV-MA    2027\nTV-14    1698\nTV-PG     701\nR         508\nPG-13     286\nNR        218\nPG        184\nTV-Y7     169\nTV-G      149\nTV-Y      143\nG          37\nUR          7\nNC-17       2\nName: rating, dtype: int64"
          },
          "metadata": {}
        }
      ]
    },
    {
      "metadata": {
        "trusted": true
      },
      "cell_type": "code",
      "source": "",
      "execution_count": null,
      "outputs": []
    },
    {
      "metadata": {
        "trusted": true
      },
      "cell_type": "code",
      "source": "netflix_data2 = netflix_data2[netflix_data2.rating != \"TV-Y7\"]",
      "execution_count": 54,
      "outputs": []
    },
    {
      "metadata": {
        "trusted": true
      },
      "cell_type": "code",
      "source": "",
      "execution_count": 56,
      "outputs": [
        {
          "output_type": "execute_result",
          "execution_count": 56,
          "data": {
            "text/plain": "(6129, 12)"
          },
          "metadata": {}
        }
      ]
    },
    {
      "metadata": {
        "trusted": true
      },
      "cell_type": "code",
      "source": "netflix_data2 = netflix_data2[netflix_data2.rating != \"TV-Y\"]",
      "execution_count": 81,
      "outputs": []
    },
    {
      "metadata": {
        "trusted": true
      },
      "cell_type": "code",
      "source": "netflix_data2.shape",
      "execution_count": 82,
      "outputs": [
        {
          "output_type": "execute_result",
          "execution_count": 82,
          "data": {
            "text/plain": "(5817, 12)"
          },
          "metadata": {}
        }
      ]
    },
    {
      "metadata": {
        "trusted": true
      },
      "cell_type": "code",
      "source": "netflix_rating2['rating'].value_counts",
      "execution_count": null,
      "outputs": []
    },
    {
      "metadata": {
        "trusted": true
      },
      "cell_type": "code",
      "source": "",
      "execution_count": null,
      "outputs": []
    },
    {
      "metadata": {
        "trusted": true
      },
      "cell_type": "code",
      "source": "",
      "execution_count": null,
      "outputs": []
    },
    {
      "metadata": {
        "trusted": true
      },
      "cell_type": "code",
      "source": "mask.head()",
      "execution_count": 74,
      "outputs": [
        {
          "output_type": "execute_result",
          "execution_count": 74,
          "data": {
            "text/plain": "0    False\n1    False\n3     True\n4    False\n5    False\nName: rating, dtype: bool"
          },
          "metadata": {}
        }
      ]
    },
    {
      "metadata": {
        "trusted": true
      },
      "cell_type": "code",
      "source": "",
      "execution_count": null,
      "outputs": []
    },
    {
      "metadata": {
        "trusted": true
      },
      "cell_type": "code",
      "source": "",
      "execution_count": null,
      "outputs": []
    },
    {
      "metadata": {
        "trusted": true
      },
      "cell_type": "code",
      "source": "",
      "execution_count": null,
      "outputs": []
    },
    {
      "metadata": {
        "trusted": true
      },
      "cell_type": "code",
      "source": "",
      "execution_count": null,
      "outputs": []
    },
    {
      "metadata": {
        "trusted": true
      },
      "cell_type": "code",
      "source": "",
      "execution_count": null,
      "outputs": []
    },
    {
      "metadata": {
        "trusted": true
      },
      "cell_type": "code",
      "source": "netflix_data2['rating'].value_counts()",
      "execution_count": 90,
      "outputs": [
        {
          "output_type": "execute_result",
          "execution_count": 90,
          "data": {
            "text/plain": "TV-MA    2027\nTV-14    1698\nTV-PG     701\nR         508\nPG-13     286\nNR        218\nPG        184\nTV-G      149\nG          37\nUR          7\nNC-17       2\nName: rating, dtype: int64"
          },
          "metadata": {}
        }
      ]
    },
    {
      "metadata": {
        "trusted": true
      },
      "cell_type": "code",
      "source": "",
      "execution_count": null,
      "outputs": []
    },
    {
      "metadata": {
        "trusted": true
      },
      "cell_type": "code",
      "source": "net = netflix_data2",
      "execution_count": 83,
      "outputs": []
    },
    {
      "metadata": {
        "trusted": true
      },
      "cell_type": "code",
      "source": "net = net.drop('cast', axis=1)",
      "execution_count": 91,
      "outputs": []
    },
    {
      "metadata": {
        "trusted": true
      },
      "cell_type": "code",
      "source": "",
      "execution_count": null,
      "outputs": []
    },
    {
      "metadata": {
        "trusted": true
      },
      "cell_type": "code",
      "source": "net.columns",
      "execution_count": 88,
      "outputs": [
        {
          "output_type": "execute_result",
          "execution_count": 88,
          "data": {
            "text/plain": "Index(['show_id', 'type', 'title', 'director', 'cast', 'country', 'date_added',\n       'release_year', 'rating', 'duration', 'listed_in'],\n      dtype='object')"
          },
          "metadata": {}
        }
      ]
    },
    {
      "metadata": {
        "trusted": true
      },
      "cell_type": "code",
      "source": "net.dtypes",
      "execution_count": 89,
      "outputs": [
        {
          "output_type": "execute_result",
          "execution_count": 89,
          "data": {
            "text/plain": "show_id          int64\ntype            object\ntitle           object\ndirector        object\ncast            object\ncountry         object\ndate_added      object\nrelease_year     int64\nrating          object\nduration        object\nlisted_in       object\ndtype: object"
          },
          "metadata": {}
        }
      ]
    },
    {
      "metadata": {
        "trusted": true
      },
      "cell_type": "code",
      "source": "array = ['United States', 'France', 'Canada']\nnet = net2[net2.country.isin(array)]",
      "execution_count": 125,
      "outputs": []
    },
    {
      "metadata": {
        "trusted": true
      },
      "cell_type": "code",
      "source": "net.shape",
      "execution_count": 126,
      "outputs": [
        {
          "output_type": "execute_result",
          "execution_count": 126,
          "data": {
            "text/plain": "(2101, 10)"
          },
          "metadata": {}
        }
      ]
    },
    {
      "metadata": {
        "trusted": true
      },
      "cell_type": "code",
      "source": "",
      "execution_count": null,
      "outputs": []
    },
    {
      "metadata": {
        "trusted": true
      },
      "cell_type": "code",
      "source": "net3.head()",
      "execution_count": 112,
      "outputs": [
        {
          "output_type": "execute_result",
          "execution_count": 112,
          "data": {
            "text/html": "<div>\n<style scoped>\n    .dataframe tbody tr th:only-of-type {\n        vertical-align: middle;\n    }\n\n    .dataframe tbody tr th {\n        vertical-align: top;\n    }\n\n    .dataframe thead th {\n        text-align: right;\n    }\n</style>\n<table border=\"1\" class=\"dataframe\">\n  <thead>\n    <tr style=\"text-align: right;\">\n      <th></th>\n      <th>show_id</th>\n      <th>type</th>\n      <th>title</th>\n      <th>director</th>\n      <th>country</th>\n      <th>date_added</th>\n      <th>release_year</th>\n      <th>rating</th>\n      <th>duration</th>\n      <th>listed_in</th>\n    </tr>\n  </thead>\n  <tbody>\n    <tr>\n      <th>4</th>\n      <td>80125979</td>\n      <td>Movie</td>\n      <td>#realityhigh</td>\n      <td>Fernando Lebrija</td>\n      <td>United States</td>\n      <td>September 8, 2017</td>\n      <td>2017</td>\n      <td>TV-14</td>\n      <td>99 min</td>\n      <td>Comedies</td>\n    </tr>\n    <tr>\n      <th>8</th>\n      <td>80117902</td>\n      <td>TV Show</td>\n      <td>Fire Chasers</td>\n      <td>NaN</td>\n      <td>United States</td>\n      <td>September 8, 2017</td>\n      <td>2017</td>\n      <td>TV-MA</td>\n      <td>1 Season</td>\n      <td>Docuseries, Science &amp; Nature TV</td>\n    </tr>\n    <tr>\n      <th>20</th>\n      <td>80060297</td>\n      <td>Movie</td>\n      <td>Manhattan Romance</td>\n      <td>Tom O'Brien</td>\n      <td>United States</td>\n      <td>September 8, 2017</td>\n      <td>2014</td>\n      <td>TV-14</td>\n      <td>98 min</td>\n      <td>Comedies, Independent Movies, Romantic Movies</td>\n    </tr>\n    <tr>\n      <th>23</th>\n      <td>70304988</td>\n      <td>Movie</td>\n      <td>Stonehearst Asylum</td>\n      <td>Brad Anderson</td>\n      <td>United States</td>\n      <td>September 8, 2017</td>\n      <td>2014</td>\n      <td>PG-13</td>\n      <td>113 min</td>\n      <td>Horror Movies, Thrillers</td>\n    </tr>\n    <tr>\n      <th>24</th>\n      <td>80057700</td>\n      <td>Movie</td>\n      <td>The Runner</td>\n      <td>Austin Stark</td>\n      <td>United States</td>\n      <td>September 8, 2017</td>\n      <td>2015</td>\n      <td>R</td>\n      <td>90 min</td>\n      <td>Dramas, Independent Movies</td>\n    </tr>\n  </tbody>\n</table>\n</div>",
            "text/plain": "     show_id     type               title          director        country  \\\n4   80125979    Movie        #realityhigh  Fernando Lebrija  United States   \n8   80117902  TV Show        Fire Chasers               NaN  United States   \n20  80060297    Movie   Manhattan Romance       Tom O'Brien  United States   \n23  70304988    Movie  Stonehearst Asylum     Brad Anderson  United States   \n24  80057700    Movie          The Runner      Austin Stark  United States   \n\n           date_added  release_year rating  duration  \\\n4   September 8, 2017          2017  TV-14    99 min   \n8   September 8, 2017          2017  TV-MA  1 Season   \n20  September 8, 2017          2014  TV-14    98 min   \n23  September 8, 2017          2014  PG-13   113 min   \n24  September 8, 2017          2015      R    90 min   \n\n                                        listed_in  \n4                                        Comedies  \n8                 Docuseries, Science & Nature TV  \n20  Comedies, Independent Movies, Romantic Movies  \n23                       Horror Movies, Thrillers  \n24                     Dramas, Independent Movies  "
          },
          "metadata": {}
        }
      ]
    },
    {
      "metadata": {
        "trusted": true
      },
      "cell_type": "code",
      "source": "notarray = [\"United Kingdom\", \"Netherlands\"]",
      "execution_count": 115,
      "outputs": []
    },
    {
      "metadata": {
        "trusted": true
      },
      "cell_type": "code",
      "source": "net4 = net2[~net2.country.isin(array)]",
      "execution_count": 116,
      "outputs": []
    },
    {
      "metadata": {
        "trusted": true
      },
      "cell_type": "code",
      "source": "net4.shape",
      "execution_count": 117,
      "outputs": [
        {
          "output_type": "execute_result",
          "execution_count": 117,
          "data": {
            "text/plain": "(3612, 10)"
          },
          "metadata": {}
        }
      ]
    },
    {
      "metadata": {
        "trusted": true
      },
      "cell_type": "code",
      "source": "",
      "execution_count": 106,
      "outputs": [
        {
          "output_type": "execute_result",
          "execution_count": 106,
          "data": {
            "text/plain": "show_id         1895\ntype               2\ntitle           1888\ndirector        1136\ncountry            1\ndate_added       897\nrelease_year      65\nrating            11\nduration         147\nlisted_in        269\ndtype: int64"
          },
          "metadata": {}
        }
      ]
    },
    {
      "metadata": {
        "trusted": true
      },
      "cell_type": "code",
      "source": "",
      "execution_count": null,
      "outputs": []
    },
    {
      "metadata": {
        "trusted": true
      },
      "cell_type": "code",
      "source": "net.columns",
      "execution_count": 127,
      "outputs": [
        {
          "output_type": "execute_result",
          "execution_count": 127,
          "data": {
            "text/plain": "Index(['show_id', 'type', 'title', 'director', 'country', 'date_added',\n       'release_year', 'rating', 'duration', 'listed_in'],\n      dtype='object')"
          },
          "metadata": {}
        }
      ]
    },
    {
      "metadata": {
        "trusted": true
      },
      "cell_type": "code",
      "source": "net['type'].value_counts()",
      "execution_count": 128,
      "outputs": [
        {
          "output_type": "execute_result",
          "execution_count": 128,
          "data": {
            "text/plain": "Movie      1558\nTV Show     543\nName: type, dtype: int64"
          },
          "metadata": {}
        }
      ]
    },
    {
      "metadata": {
        "trusted": true
      },
      "cell_type": "code",
      "source": "net_cleansed = {\"type\": \n               {\"Movie\": 1,\n               \"TV Show\": 2}}",
      "execution_count": 129,
      "outputs": []
    },
    {
      "metadata": {
        "trusted": true
      },
      "cell_type": "code",
      "source": "net.replace(net_cleansed, inplace=True)",
      "execution_count": 132,
      "outputs": [
        {
          "output_type": "stream",
          "text": "/home/nbuser/anaconda3_501/lib/python3.6/site-packages/pandas/core/generic.py:5821: SettingWithCopyWarning: \nA value is trying to be set on a copy of a slice from a DataFrame.\nTry using .loc[row_indexer,col_indexer] = value instead\n\nSee the caveats in the documentation: http://pandas.pydata.org/pandas-docs/stable/indexing.html#indexing-view-versus-copy\n  regex=regex)\n",
          "name": "stderr"
        }
      ]
    },
    {
      "metadata": {
        "trusted": true
      },
      "cell_type": "code",
      "source": "net.head()",
      "execution_count": 133,
      "outputs": [
        {
          "output_type": "execute_result",
          "execution_count": 133,
          "data": {
            "text/html": "<div>\n<style scoped>\n    .dataframe tbody tr th:only-of-type {\n        vertical-align: middle;\n    }\n\n    .dataframe tbody tr th {\n        vertical-align: top;\n    }\n\n    .dataframe thead th {\n        text-align: right;\n    }\n</style>\n<table border=\"1\" class=\"dataframe\">\n  <thead>\n    <tr style=\"text-align: right;\">\n      <th></th>\n      <th>show_id</th>\n      <th>type</th>\n      <th>title</th>\n      <th>director</th>\n      <th>country</th>\n      <th>date_added</th>\n      <th>release_year</th>\n      <th>rating</th>\n      <th>duration</th>\n      <th>listed_in</th>\n    </tr>\n  </thead>\n  <tbody>\n    <tr>\n      <th>4</th>\n      <td>80125979</td>\n      <td>1</td>\n      <td>#realityhigh</td>\n      <td>Fernando Lebrija</td>\n      <td>United States</td>\n      <td>September 8, 2017</td>\n      <td>2017</td>\n      <td>TV-14</td>\n      <td>99 min</td>\n      <td>Comedies</td>\n    </tr>\n    <tr>\n      <th>8</th>\n      <td>80117902</td>\n      <td>2</td>\n      <td>Fire Chasers</td>\n      <td>NaN</td>\n      <td>United States</td>\n      <td>September 8, 2017</td>\n      <td>2017</td>\n      <td>TV-MA</td>\n      <td>1 Season</td>\n      <td>Docuseries, Science &amp; Nature TV</td>\n    </tr>\n    <tr>\n      <th>20</th>\n      <td>80060297</td>\n      <td>1</td>\n      <td>Manhattan Romance</td>\n      <td>Tom O'Brien</td>\n      <td>United States</td>\n      <td>September 8, 2017</td>\n      <td>2014</td>\n      <td>TV-14</td>\n      <td>98 min</td>\n      <td>Comedies, Independent Movies, Romantic Movies</td>\n    </tr>\n    <tr>\n      <th>23</th>\n      <td>70304988</td>\n      <td>1</td>\n      <td>Stonehearst Asylum</td>\n      <td>Brad Anderson</td>\n      <td>United States</td>\n      <td>September 8, 2017</td>\n      <td>2014</td>\n      <td>PG-13</td>\n      <td>113 min</td>\n      <td>Horror Movies, Thrillers</td>\n    </tr>\n    <tr>\n      <th>24</th>\n      <td>80057700</td>\n      <td>1</td>\n      <td>The Runner</td>\n      <td>Austin Stark</td>\n      <td>United States</td>\n      <td>September 8, 2017</td>\n      <td>2015</td>\n      <td>R</td>\n      <td>90 min</td>\n      <td>Dramas, Independent Movies</td>\n    </tr>\n  </tbody>\n</table>\n</div>",
            "text/plain": "     show_id  type               title          director        country  \\\n4   80125979     1        #realityhigh  Fernando Lebrija  United States   \n8   80117902     2        Fire Chasers               NaN  United States   \n20  80060297     1   Manhattan Romance       Tom O'Brien  United States   \n23  70304988     1  Stonehearst Asylum     Brad Anderson  United States   \n24  80057700     1          The Runner      Austin Stark  United States   \n\n           date_added  release_year rating  duration  \\\n4   September 8, 2017          2017  TV-14    99 min   \n8   September 8, 2017          2017  TV-MA  1 Season   \n20  September 8, 2017          2014  TV-14    98 min   \n23  September 8, 2017          2014  PG-13   113 min   \n24  September 8, 2017          2015      R    90 min   \n\n                                        listed_in  \n4                                        Comedies  \n8                 Docuseries, Science & Nature TV  \n20  Comedies, Independent Movies, Romantic Movies  \n23                       Horror Movies, Thrillers  \n24                     Dramas, Independent Movies  "
          },
          "metadata": {}
        }
      ]
    },
    {
      "metadata": {
        "trusted": true
      },
      "cell_type": "code",
      "source": "net.dtypes",
      "execution_count": 134,
      "outputs": [
        {
          "output_type": "execute_result",
          "execution_count": 134,
          "data": {
            "text/plain": "show_id          int64\ntype             int64\ntitle           object\ndirector        object\ncountry         object\ndate_added      object\nrelease_year     int64\nrating          object\nduration        object\nlisted_in       object\ndtype: object"
          },
          "metadata": {}
        }
      ]
    },
    {
      "metadata": {
        "trusted": true
      },
      "cell_type": "code",
      "source": "net['country'].value_counts()",
      "execution_count": 136,
      "outputs": [
        {
          "output_type": "execute_result",
          "execution_count": 136,
          "data": {
            "text/plain": "United States    1895\nCanada            124\nFrance             82\nName: country, dtype: int64"
          },
          "metadata": {}
        }
      ]
    },
    {
      "metadata": {
        "trusted": true
      },
      "cell_type": "code",
      "source": "net[\"country\"] = net[\"country\"].astype('category')\nnet.dtypes",
      "execution_count": 139,
      "outputs": [
        {
          "output_type": "stream",
          "text": "/home/nbuser/anaconda3_501/lib/python3.6/site-packages/ipykernel/__main__.py:1: SettingWithCopyWarning: \nA value is trying to be set on a copy of a slice from a DataFrame.\nTry using .loc[row_indexer,col_indexer] = value instead\n\nSee the caveats in the documentation: http://pandas.pydata.org/pandas-docs/stable/indexing.html#indexing-view-versus-copy\n  if __name__ == '__main__':\n",
          "name": "stderr"
        },
        {
          "output_type": "execute_result",
          "execution_count": 139,
          "data": {
            "text/plain": "show_id            int64\ntype               int64\ntitle             object\ndirector          object\ncountry         category\ndate_added        object\nrelease_year       int64\nrating            object\nduration          object\nlisted_in         object\ndtype: object"
          },
          "metadata": {}
        }
      ]
    },
    {
      "metadata": {
        "trusted": true
      },
      "cell_type": "code",
      "source": "net.dtypes",
      "execution_count": 141,
      "outputs": [
        {
          "output_type": "execute_result",
          "execution_count": 141,
          "data": {
            "text/plain": "show_id          int64\ntype             int64\ntitle           object\ndirector        object\ncountry           int8\ndate_added      object\nrelease_year     int64\nrating          object\nduration        object\nlisted_in       object\ndtype: object"
          },
          "metadata": {}
        }
      ]
    },
    {
      "metadata": {
        "trusted": true
      },
      "cell_type": "code",
      "source": "net[\"country\"] = net[\"country\"].cat.codes\nnet.head()",
      "execution_count": 140,
      "outputs": [
        {
          "output_type": "stream",
          "text": "/home/nbuser/anaconda3_501/lib/python3.6/site-packages/ipykernel/__main__.py:1: SettingWithCopyWarning: \nA value is trying to be set on a copy of a slice from a DataFrame.\nTry using .loc[row_indexer,col_indexer] = value instead\n\nSee the caveats in the documentation: http://pandas.pydata.org/pandas-docs/stable/indexing.html#indexing-view-versus-copy\n  if __name__ == '__main__':\n",
          "name": "stderr"
        },
        {
          "output_type": "execute_result",
          "execution_count": 140,
          "data": {
            "text/html": "<div>\n<style scoped>\n    .dataframe tbody tr th:only-of-type {\n        vertical-align: middle;\n    }\n\n    .dataframe tbody tr th {\n        vertical-align: top;\n    }\n\n    .dataframe thead th {\n        text-align: right;\n    }\n</style>\n<table border=\"1\" class=\"dataframe\">\n  <thead>\n    <tr style=\"text-align: right;\">\n      <th></th>\n      <th>show_id</th>\n      <th>type</th>\n      <th>title</th>\n      <th>director</th>\n      <th>country</th>\n      <th>date_added</th>\n      <th>release_year</th>\n      <th>rating</th>\n      <th>duration</th>\n      <th>listed_in</th>\n    </tr>\n  </thead>\n  <tbody>\n    <tr>\n      <th>4</th>\n      <td>80125979</td>\n      <td>1</td>\n      <td>#realityhigh</td>\n      <td>Fernando Lebrija</td>\n      <td>2</td>\n      <td>September 8, 2017</td>\n      <td>2017</td>\n      <td>TV-14</td>\n      <td>99 min</td>\n      <td>Comedies</td>\n    </tr>\n    <tr>\n      <th>8</th>\n      <td>80117902</td>\n      <td>2</td>\n      <td>Fire Chasers</td>\n      <td>NaN</td>\n      <td>2</td>\n      <td>September 8, 2017</td>\n      <td>2017</td>\n      <td>TV-MA</td>\n      <td>1 Season</td>\n      <td>Docuseries, Science &amp; Nature TV</td>\n    </tr>\n    <tr>\n      <th>20</th>\n      <td>80060297</td>\n      <td>1</td>\n      <td>Manhattan Romance</td>\n      <td>Tom O'Brien</td>\n      <td>2</td>\n      <td>September 8, 2017</td>\n      <td>2014</td>\n      <td>TV-14</td>\n      <td>98 min</td>\n      <td>Comedies, Independent Movies, Romantic Movies</td>\n    </tr>\n    <tr>\n      <th>23</th>\n      <td>70304988</td>\n      <td>1</td>\n      <td>Stonehearst Asylum</td>\n      <td>Brad Anderson</td>\n      <td>2</td>\n      <td>September 8, 2017</td>\n      <td>2014</td>\n      <td>PG-13</td>\n      <td>113 min</td>\n      <td>Horror Movies, Thrillers</td>\n    </tr>\n    <tr>\n      <th>24</th>\n      <td>80057700</td>\n      <td>1</td>\n      <td>The Runner</td>\n      <td>Austin Stark</td>\n      <td>2</td>\n      <td>September 8, 2017</td>\n      <td>2015</td>\n      <td>R</td>\n      <td>90 min</td>\n      <td>Dramas, Independent Movies</td>\n    </tr>\n  </tbody>\n</table>\n</div>",
            "text/plain": "     show_id  type               title          director  country  \\\n4   80125979     1        #realityhigh  Fernando Lebrija        2   \n8   80117902     2        Fire Chasers               NaN        2   \n20  80060297     1   Manhattan Romance       Tom O'Brien        2   \n23  70304988     1  Stonehearst Asylum     Brad Anderson        2   \n24  80057700     1          The Runner      Austin Stark        2   \n\n           date_added  release_year rating  duration  \\\n4   September 8, 2017          2017  TV-14    99 min   \n8   September 8, 2017          2017  TV-MA  1 Season   \n20  September 8, 2017          2014  TV-14    98 min   \n23  September 8, 2017          2014  PG-13   113 min   \n24  September 8, 2017          2015      R    90 min   \n\n                                        listed_in  \n4                                        Comedies  \n8                 Docuseries, Science & Nature TV  \n20  Comedies, Independent Movies, Romantic Movies  \n23                       Horror Movies, Thrillers  \n24                     Dramas, Independent Movies  "
          },
          "metadata": {}
        }
      ]
    },
    {
      "metadata": {
        "trusted": true
      },
      "cell_type": "code",
      "source": "net['rating'].value_counts()",
      "execution_count": 142,
      "outputs": [
        {
          "output_type": "execute_result",
          "execution_count": 142,
          "data": {
            "text/plain": "TV-MA    719\nTV-14    381\nR        285\nTV-PG    236\nPG-13    171\nPG       111\nNR        95\nTV-G      72\nG         27\nUR         3\nNC-17      1\nName: rating, dtype: int64"
          },
          "metadata": {}
        }
      ]
    },
    {
      "metadata": {
        "trusted": true
      },
      "cell_type": "code",
      "source": "ratings_cleansed = {\"rating\": {\"TV-14\": \"PG-13\", \"TV-G\": \"G\", \"TV-PG\": \"PG\"}}",
      "execution_count": 180,
      "outputs": []
    },
    {
      "metadata": {
        "trusted": true
      },
      "cell_type": "code",
      "source": "",
      "execution_count": 177,
      "outputs": []
    },
    {
      "metadata": {
        "trusted": true
      },
      "cell_type": "code",
      "source": "net.replace(ratings_cleansed, inplace=True)",
      "execution_count": 181,
      "outputs": []
    },
    {
      "metadata": {
        "trusted": true
      },
      "cell_type": "code",
      "source": "",
      "execution_count": null,
      "outputs": []
    },
    {
      "metadata": {
        "trusted": true
      },
      "cell_type": "code",
      "source": "ratingsdrop = [\"UR\", \"NR\"] \nnet = net[~net.rating.isin(ratingsdrop)]",
      "execution_count": 163,
      "outputs": []
    },
    {
      "metadata": {
        "trusted": true
      },
      "cell_type": "code",
      "source": "net['rating'].value_counts()",
      "execution_count": 182,
      "outputs": [
        {
          "output_type": "execute_result",
          "execution_count": 182,
          "data": {
            "text/plain": "R        1004\nPG-13     552\nPG        347\nG          99\nNC-17       1\nName: rating, dtype: int64"
          },
          "metadata": {}
        }
      ]
    },
    {
      "metadata": {
        "trusted": true
      },
      "cell_type": "code",
      "source": "net.shape",
      "execution_count": 166,
      "outputs": [
        {
          "output_type": "execute_result",
          "execution_count": 166,
          "data": {
            "text/plain": "(2003, 10)"
          },
          "metadata": {}
        }
      ]
    },
    {
      "metadata": {
        "trusted": true
      },
      "cell_type": "code",
      "source": "net.replace(ratings_cleansed, inplace=True)\nnet.shape",
      "execution_count": 176,
      "outputs": [
        {
          "output_type": "error",
          "ename": "ValueError",
          "evalue": "Replacement not allowed with overlapping keys and values",
          "traceback": [
            "\u001b[0;31m---------------------------------------------------------------------------\u001b[0m",
            "\u001b[0;31mValueError\u001b[0m                                Traceback (most recent call last)",
            "\u001b[0;32m<ipython-input-176-de91a1b6a104>\u001b[0m in \u001b[0;36m<module>\u001b[0;34m\u001b[0m\n\u001b[0;32m----> 1\u001b[0;31m \u001b[0mnet\u001b[0m\u001b[0;34m.\u001b[0m\u001b[0mreplace\u001b[0m\u001b[0;34m(\u001b[0m\u001b[0mratings_cleansed\u001b[0m\u001b[0;34m,\u001b[0m \u001b[0minplace\u001b[0m\u001b[0;34m=\u001b[0m\u001b[0;32mTrue\u001b[0m\u001b[0;34m)\u001b[0m\u001b[0;34m\u001b[0m\u001b[0m\n\u001b[0m\u001b[1;32m      2\u001b[0m \u001b[0mnet\u001b[0m\u001b[0;34m.\u001b[0m\u001b[0mshape\u001b[0m\u001b[0;34m\u001b[0m\u001b[0m\n",
            "\u001b[0;32m~/anaconda3_501/lib/python3.6/site-packages/pandas/core/frame.py\u001b[0m in \u001b[0;36mreplace\u001b[0;34m(self, to_replace, value, inplace, limit, regex, method)\u001b[0m\n\u001b[1;32m   3796\u001b[0m                                               \u001b[0mvalue\u001b[0m\u001b[0;34m=\u001b[0m\u001b[0mvalue\u001b[0m\u001b[0;34m,\u001b[0m \u001b[0minplace\u001b[0m\u001b[0;34m=\u001b[0m\u001b[0minplace\u001b[0m\u001b[0;34m,\u001b[0m\u001b[0;34m\u001b[0m\u001b[0m\n\u001b[1;32m   3797\u001b[0m                                               \u001b[0mlimit\u001b[0m\u001b[0;34m=\u001b[0m\u001b[0mlimit\u001b[0m\u001b[0;34m,\u001b[0m \u001b[0mregex\u001b[0m\u001b[0;34m=\u001b[0m\u001b[0mregex\u001b[0m\u001b[0;34m,\u001b[0m\u001b[0;34m\u001b[0m\u001b[0m\n\u001b[0;32m-> 3798\u001b[0;31m                                               method=method)\n\u001b[0m\u001b[1;32m   3799\u001b[0m \u001b[0;34m\u001b[0m\u001b[0m\n\u001b[1;32m   3800\u001b[0m     \u001b[0;34m@\u001b[0m\u001b[0mAppender\u001b[0m\u001b[0;34m(\u001b[0m\u001b[0m_shared_docs\u001b[0m\u001b[0;34m[\u001b[0m\u001b[0;34m'shift'\u001b[0m\u001b[0;34m]\u001b[0m \u001b[0;34m%\u001b[0m \u001b[0m_shared_doc_kwargs\u001b[0m\u001b[0;34m)\u001b[0m\u001b[0;34m\u001b[0m\u001b[0m\n",
            "\u001b[0;32m~/anaconda3_501/lib/python3.6/site-packages/pandas/core/generic.py\u001b[0m in \u001b[0;36mreplace\u001b[0;34m(self, to_replace, value, inplace, limit, regex, method)\u001b[0m\n\u001b[1;32m   5790\u001b[0m                     \u001b[0mkeys\u001b[0m\u001b[0;34m,\u001b[0m \u001b[0mvalues\u001b[0m \u001b[0;34m=\u001b[0m \u001b[0mlzip\u001b[0m\u001b[0;34m(\u001b[0m\u001b[0;34m*\u001b[0m\u001b[0mv\u001b[0m\u001b[0;34m.\u001b[0m\u001b[0mitems\u001b[0m\u001b[0;34m(\u001b[0m\u001b[0;34m)\u001b[0m\u001b[0;34m)\u001b[0m \u001b[0;32mor\u001b[0m \u001b[0;34m(\u001b[0m\u001b[0;34m[\u001b[0m\u001b[0;34m]\u001b[0m\u001b[0;34m,\u001b[0m \u001b[0;34m[\u001b[0m\u001b[0;34m]\u001b[0m\u001b[0;34m)\u001b[0m\u001b[0;34m\u001b[0m\u001b[0m\n\u001b[1;32m   5791\u001b[0m                     \u001b[0;32mif\u001b[0m \u001b[0mset\u001b[0m\u001b[0;34m(\u001b[0m\u001b[0mkeys\u001b[0m\u001b[0;34m)\u001b[0m \u001b[0;34m&\u001b[0m \u001b[0mset\u001b[0m\u001b[0;34m(\u001b[0m\u001b[0mvalues\u001b[0m\u001b[0;34m)\u001b[0m\u001b[0;34m:\u001b[0m\u001b[0;34m\u001b[0m\u001b[0m\n\u001b[0;32m-> 5792\u001b[0;31m                         raise ValueError(\"Replacement not allowed with \"\n\u001b[0m\u001b[1;32m   5793\u001b[0m                                          \"overlapping keys and values\")\n\u001b[1;32m   5794\u001b[0m                     \u001b[0mto_rep_dict\u001b[0m\u001b[0;34m[\u001b[0m\u001b[0mk\u001b[0m\u001b[0;34m]\u001b[0m \u001b[0;34m=\u001b[0m \u001b[0mlist\u001b[0m\u001b[0;34m(\u001b[0m\u001b[0mkeys\u001b[0m\u001b[0;34m)\u001b[0m\u001b[0;34m\u001b[0m\u001b[0m\n",
            "\u001b[0;31mValueError\u001b[0m: Replacement not allowed with overlapping keys and values"
          ]
        }
      ]
    },
    {
      "metadata": {
        "trusted": true
      },
      "cell_type": "code",
      "source": "ratingscat = {\"rating\": {\"G\": 1, \"PG\": 2, \"PG-13\": 3, \"R\": 4, \"NC-17\": 5}}",
      "execution_count": 183,
      "outputs": []
    },
    {
      "metadata": {
        "trusted": true
      },
      "cell_type": "code",
      "source": "net.replace(ratingscat, inplace=True)",
      "execution_count": 185,
      "outputs": []
    },
    {
      "metadata": {
        "trusted": true
      },
      "cell_type": "code",
      "source": "net.dtypes",
      "execution_count": 186,
      "outputs": [
        {
          "output_type": "execute_result",
          "execution_count": 186,
          "data": {
            "text/plain": "show_id          int64\ntype             int64\ntitle           object\ndirector        object\ncountry           int8\ndate_added      object\nrelease_year     int64\nrating           int64\nduration        object\nlisted_in       object\ndtype: object"
          },
          "metadata": {}
        }
      ]
    },
    {
      "metadata": {
        "trusted": true
      },
      "cell_type": "code",
      "source": "net.head()",
      "execution_count": 187,
      "outputs": [
        {
          "output_type": "execute_result",
          "execution_count": 187,
          "data": {
            "text/html": "<div>\n<style scoped>\n    .dataframe tbody tr th:only-of-type {\n        vertical-align: middle;\n    }\n\n    .dataframe tbody tr th {\n        vertical-align: top;\n    }\n\n    .dataframe thead th {\n        text-align: right;\n    }\n</style>\n<table border=\"1\" class=\"dataframe\">\n  <thead>\n    <tr style=\"text-align: right;\">\n      <th></th>\n      <th>show_id</th>\n      <th>type</th>\n      <th>title</th>\n      <th>director</th>\n      <th>country</th>\n      <th>date_added</th>\n      <th>release_year</th>\n      <th>rating</th>\n      <th>duration</th>\n      <th>listed_in</th>\n    </tr>\n  </thead>\n  <tbody>\n    <tr>\n      <th>4</th>\n      <td>80125979</td>\n      <td>1</td>\n      <td>#realityhigh</td>\n      <td>Fernando Lebrija</td>\n      <td>2</td>\n      <td>September 8, 2017</td>\n      <td>2017</td>\n      <td>3</td>\n      <td>99 min</td>\n      <td>Comedies</td>\n    </tr>\n    <tr>\n      <th>8</th>\n      <td>80117902</td>\n      <td>2</td>\n      <td>Fire Chasers</td>\n      <td>NaN</td>\n      <td>2</td>\n      <td>September 8, 2017</td>\n      <td>2017</td>\n      <td>4</td>\n      <td>1 Season</td>\n      <td>Docuseries, Science &amp; Nature TV</td>\n    </tr>\n    <tr>\n      <th>20</th>\n      <td>80060297</td>\n      <td>1</td>\n      <td>Manhattan Romance</td>\n      <td>Tom O'Brien</td>\n      <td>2</td>\n      <td>September 8, 2017</td>\n      <td>2014</td>\n      <td>3</td>\n      <td>98 min</td>\n      <td>Comedies, Independent Movies, Romantic Movies</td>\n    </tr>\n    <tr>\n      <th>23</th>\n      <td>70304988</td>\n      <td>1</td>\n      <td>Stonehearst Asylum</td>\n      <td>Brad Anderson</td>\n      <td>2</td>\n      <td>September 8, 2017</td>\n      <td>2014</td>\n      <td>3</td>\n      <td>113 min</td>\n      <td>Horror Movies, Thrillers</td>\n    </tr>\n    <tr>\n      <th>24</th>\n      <td>80057700</td>\n      <td>1</td>\n      <td>The Runner</td>\n      <td>Austin Stark</td>\n      <td>2</td>\n      <td>September 8, 2017</td>\n      <td>2015</td>\n      <td>4</td>\n      <td>90 min</td>\n      <td>Dramas, Independent Movies</td>\n    </tr>\n  </tbody>\n</table>\n</div>",
            "text/plain": "     show_id  type               title          director  country  \\\n4   80125979     1        #realityhigh  Fernando Lebrija        2   \n8   80117902     2        Fire Chasers               NaN        2   \n20  80060297     1   Manhattan Romance       Tom O'Brien        2   \n23  70304988     1  Stonehearst Asylum     Brad Anderson        2   \n24  80057700     1          The Runner      Austin Stark        2   \n\n           date_added  release_year  rating  duration  \\\n4   September 8, 2017          2017       3    99 min   \n8   September 8, 2017          2017       4  1 Season   \n20  September 8, 2017          2014       3    98 min   \n23  September 8, 2017          2014       3   113 min   \n24  September 8, 2017          2015       4    90 min   \n\n                                        listed_in  \n4                                        Comedies  \n8                 Docuseries, Science & Nature TV  \n20  Comedies, Independent Movies, Romantic Movies  \n23                       Horror Movies, Thrillers  \n24                     Dramas, Independent Movies  "
          },
          "metadata": {}
        }
      ]
    },
    {
      "metadata": {
        "trusted": true
      },
      "cell_type": "code",
      "source": "net.describe()",
      "execution_count": 188,
      "outputs": [
        {
          "output_type": "execute_result",
          "execution_count": 188,
          "data": {
            "text/html": "<div>\n<style scoped>\n    .dataframe tbody tr th:only-of-type {\n        vertical-align: middle;\n    }\n\n    .dataframe tbody tr th {\n        vertical-align: top;\n    }\n\n    .dataframe thead th {\n        text-align: right;\n    }\n</style>\n<table border=\"1\" class=\"dataframe\">\n  <thead>\n    <tr style=\"text-align: right;\">\n      <th></th>\n      <th>show_id</th>\n      <th>type</th>\n      <th>country</th>\n      <th>release_year</th>\n      <th>rating</th>\n    </tr>\n  </thead>\n  <tbody>\n    <tr>\n      <th>count</th>\n      <td>2.003000e+03</td>\n      <td>2003.000000</td>\n      <td>2003.000000</td>\n      <td>2003.000000</td>\n      <td>2003.000000</td>\n    </tr>\n    <tr>\n      <th>mean</th>\n      <td>7.472606e+07</td>\n      <td>1.268597</td>\n      <td>1.840739</td>\n      <td>2012.961058</td>\n      <td>3.230155</td>\n    </tr>\n    <tr>\n      <th>std</th>\n      <td>1.460579e+07</td>\n      <td>0.443341</td>\n      <td>0.502837</td>\n      <td>10.451710</td>\n      <td>0.906437</td>\n    </tr>\n    <tr>\n      <th>min</th>\n      <td>2.698800e+05</td>\n      <td>1.000000</td>\n      <td>0.000000</td>\n      <td>1942.000000</td>\n      <td>1.000000</td>\n    </tr>\n    <tr>\n      <th>25%</th>\n      <td>7.029303e+07</td>\n      <td>1.000000</td>\n      <td>2.000000</td>\n      <td>2013.000000</td>\n      <td>3.000000</td>\n    </tr>\n    <tr>\n      <th>50%</th>\n      <td>8.013415e+07</td>\n      <td>1.000000</td>\n      <td>2.000000</td>\n      <td>2017.000000</td>\n      <td>4.000000</td>\n    </tr>\n    <tr>\n      <th>75%</th>\n      <td>8.021680e+07</td>\n      <td>2.000000</td>\n      <td>2.000000</td>\n      <td>2018.000000</td>\n      <td>4.000000</td>\n    </tr>\n    <tr>\n      <th>max</th>\n      <td>8.123573e+07</td>\n      <td>2.000000</td>\n      <td>2.000000</td>\n      <td>2020.000000</td>\n      <td>5.000000</td>\n    </tr>\n  </tbody>\n</table>\n</div>",
            "text/plain": "            show_id         type      country  release_year       rating\ncount  2.003000e+03  2003.000000  2003.000000   2003.000000  2003.000000\nmean   7.472606e+07     1.268597     1.840739   2012.961058     3.230155\nstd    1.460579e+07     0.443341     0.502837     10.451710     0.906437\nmin    2.698800e+05     1.000000     0.000000   1942.000000     1.000000\n25%    7.029303e+07     1.000000     2.000000   2013.000000     3.000000\n50%    8.013415e+07     1.000000     2.000000   2017.000000     4.000000\n75%    8.021680e+07     2.000000     2.000000   2018.000000     4.000000\nmax    8.123573e+07     2.000000     2.000000   2020.000000     5.000000"
          },
          "metadata": {}
        }
      ]
    },
    {
      "metadata": {
        "trusted": true
      },
      "cell_type": "code",
      "source": "net['release_year'].plot.hist(bins=10, figsize=(10,8));",
      "execution_count": 190,
      "outputs": [
        {
          "output_type": "display_data",
          "data": {
            "image/png": "[encoded data removed]",
            "text/plain": "<Figure size 720x576 with 1 Axes>"
          },
          "metadata": {
            "needs_background": "light"
          }
        }
      ]
    },
    {
      "metadata": {
        "trusted": true
      },
      "cell_type": "code",
      "source": "boxplot = net.boxplot(grid=False, rot=45, fontsize=15, column=['rating'],\n                      figsize=(10,8));",
      "execution_count": 197,
      "outputs": [
        {
          "output_type": "display_data",
          "data": {
            "image/png": "[encoded data removed]",
            "text/plain": "<Figure size 720x576 with 1 Axes>"
          },
          "metadata": {
            "needs_background": "light"
          }
        }
      ]
    },
    {
      "metadata": {
        "trusted": true
      },
      "cell_type": "code",
      "source": "net.to_csv('netflix_data_c.csv', index=False)",
      "execution_count": 198,
      "outputs": []
    },
    {
      "metadata": {
        "trusted": true
      },
      "cell_type": "code",
      "source": "!ls",
      "execution_count": 199,
      "outputs": [
        {
          "output_type": "stream",
          "text": "netflix_data_c.csv  netflix_movie_analysis.ipynb  netflix_titles.csv  README.md\r\n",
          "name": "stdout"
        }
      ]
    },
    {
      "metadata": {
        "trusted": true
      },
      "cell_type": "code",
      "source": "net = pd.read_csv(\"netflix_data_c.csv\")",
      "execution_count": 45,
      "outputs": []
    },
    {
      "metadata": {
        "trusted": true
      },
      "cell_type": "code",
      "source": "net.shape",
      "execution_count": 46,
      "outputs": [
        {
          "output_type": "execute_result",
          "execution_count": 46,
          "data": {
            "text/plain": "(2003, 10)"
          },
          "metadata": {}
        }
      ]
    },
    {
      "metadata": {
        "trusted": true
      },
      "cell_type": "code",
      "source": "net.columns",
      "execution_count": 48,
      "outputs": [
        {
          "output_type": "execute_result",
          "execution_count": 48,
          "data": {
            "text/plain": "Index(['show_id', 'type', 'title', 'director', 'country', 'date_added',\n       'release_year', 'rating', 'duration', 'listed_in'],\n      dtype='object')"
          },
          "metadata": {}
        }
      ]
    },
    {
      "metadata": {
        "trusted": true
      },
      "cell_type": "code",
      "source": "boxplot = net.boxplot(grid=False, rot=45, fontsize=15, column=['release_year'],\n                      figsize=(10,8));",
      "execution_count": 49,
      "outputs": [
        {
          "output_type": "display_data",
          "data": {
            "image/png": "[encoded data removed]",
            "text/plain": "<Figure size 720x576 with 1 Axes>"
          },
          "metadata": {
            "needs_background": "light"
          }
        }
      ]
    },
    {
      "metadata": {
        "trusted": true
      },
      "cell_type": "code",
      "source": "net.loc[net['release_year']< 1950]",
      "execution_count": 51,
      "outputs": [
        {
          "output_type": "execute_result",
          "execution_count": 51,
          "data": {
            "text/html": "<div>\n<style scoped>\n    .dataframe tbody tr th:only-of-type {\n        vertical-align: middle;\n    }\n\n    .dataframe tbody tr th {\n        vertical-align: top;\n    }\n\n    .dataframe thead th {\n        text-align: right;\n    }\n</style>\n<table border=\"1\" class=\"dataframe\">\n  <thead>\n    <tr style=\"text-align: right;\">\n      <th></th>\n      <th>show_id</th>\n      <th>type</th>\n      <th>title</th>\n      <th>director</th>\n      <th>country</th>\n      <th>date_added</th>\n      <th>release_year</th>\n      <th>rating</th>\n      <th>duration</th>\n      <th>listed_in</th>\n    </tr>\n  </thead>\n  <tbody>\n    <tr>\n      <th>651</th>\n      <td>80119190</td>\n      <td>1</td>\n      <td>Know Your Enemy - Japan</td>\n      <td>Frank Capra, Joris Ivens</td>\n      <td>2</td>\n      <td>March 31, 2017</td>\n      <td>1945</td>\n      <td>3</td>\n      <td>63 min</td>\n      <td>Classic Movies, Documentaries</td>\n    </tr>\n    <tr>\n      <th>652</th>\n      <td>80119187</td>\n      <td>1</td>\n      <td>Let There Be Light</td>\n      <td>John Huston</td>\n      <td>2</td>\n      <td>March 31, 2017</td>\n      <td>1946</td>\n      <td>2</td>\n      <td>58 min</td>\n      <td>Classic Movies, Documentaries</td>\n    </tr>\n    <tr>\n      <th>653</th>\n      <td>80119192</td>\n      <td>1</td>\n      <td>Nazi Concentration Camps</td>\n      <td>George Stevens</td>\n      <td>2</td>\n      <td>March 31, 2017</td>\n      <td>1945</td>\n      <td>4</td>\n      <td>59 min</td>\n      <td>Classic Movies, Documentaries</td>\n    </tr>\n    <tr>\n      <th>654</th>\n      <td>60027945</td>\n      <td>1</td>\n      <td>Prelude to War</td>\n      <td>Frank Capra</td>\n      <td>2</td>\n      <td>March 31, 2017</td>\n      <td>1942</td>\n      <td>2</td>\n      <td>52 min</td>\n      <td>Classic Movies, Documentaries</td>\n    </tr>\n    <tr>\n      <th>655</th>\n      <td>80119188</td>\n      <td>1</td>\n      <td>San Pietro</td>\n      <td>John Huston</td>\n      <td>2</td>\n      <td>March 31, 2017</td>\n      <td>1945</td>\n      <td>3</td>\n      <td>32 min</td>\n      <td>Classic Movies, Documentaries</td>\n    </tr>\n    <tr>\n      <th>656</th>\n      <td>60027942</td>\n      <td>1</td>\n      <td>The Battle of Midway</td>\n      <td>John Ford</td>\n      <td>2</td>\n      <td>March 31, 2017</td>\n      <td>1942</td>\n      <td>1</td>\n      <td>18 min</td>\n      <td>Classic Movies, Documentaries</td>\n    </tr>\n    <tr>\n      <th>658</th>\n      <td>80119194</td>\n      <td>1</td>\n      <td>The Memphis Belle: A Story of a\\nFlying Fortress</td>\n      <td>William Wyler</td>\n      <td>2</td>\n      <td>March 31, 2017</td>\n      <td>1944</td>\n      <td>2</td>\n      <td>40 min</td>\n      <td>Classic Movies, Documentaries</td>\n    </tr>\n    <tr>\n      <th>659</th>\n      <td>80119191</td>\n      <td>1</td>\n      <td>The Negro Soldier</td>\n      <td>Stuart Heisler</td>\n      <td>2</td>\n      <td>March 31, 2017</td>\n      <td>1944</td>\n      <td>3</td>\n      <td>40 min</td>\n      <td>Classic Movies, Documentaries</td>\n    </tr>\n    <tr>\n      <th>660</th>\n      <td>80119193</td>\n      <td>1</td>\n      <td>Thunderbolt</td>\n      <td>William Wyler, John Sturges</td>\n      <td>2</td>\n      <td>March 31, 2017</td>\n      <td>1947</td>\n      <td>3</td>\n      <td>42 min</td>\n      <td>Classic Movies, Documentaries</td>\n    </tr>\n    <tr>\n      <th>661</th>\n      <td>80119186</td>\n      <td>1</td>\n      <td>Undercover: How to Operate Behind Enemy Lines</td>\n      <td>John Ford</td>\n      <td>2</td>\n      <td>March 31, 2017</td>\n      <td>1943</td>\n      <td>2</td>\n      <td>61 min</td>\n      <td>Classic Movies, Documentaries</td>\n    </tr>\n    <tr>\n      <th>662</th>\n      <td>70013050</td>\n      <td>1</td>\n      <td>Why We Fight: The Battle of Russia</td>\n      <td>Frank Capra, Anatole Litvak</td>\n      <td>2</td>\n      <td>March 31, 2017</td>\n      <td>1943</td>\n      <td>3</td>\n      <td>82 min</td>\n      <td>Documentaries</td>\n    </tr>\n    <tr>\n      <th>914</th>\n      <td>1005494</td>\n      <td>1</td>\n      <td>The Stranger</td>\n      <td>Orson Welles</td>\n      <td>2</td>\n      <td>July 19, 2018</td>\n      <td>1946</td>\n      <td>2</td>\n      <td>94 min</td>\n      <td>Classic Movies, Dramas, Thrillers</td>\n    </tr>\n    <tr>\n      <th>1334</th>\n      <td>80161851</td>\n      <td>2</td>\n      <td>Pioneers of African-American Cinema</td>\n      <td>Oscar Micheaux, Spencer Williams, Richard E. N...</td>\n      <td>2</td>\n      <td>February 1, 2017</td>\n      <td>1946</td>\n      <td>3</td>\n      <td>1 Season</td>\n      <td>TV Shows</td>\n    </tr>\n  </tbody>\n</table>\n</div>",
            "text/plain": "       show_id  type                                             title  \\\n651   80119190     1                           Know Your Enemy - Japan   \n652   80119187     1                                Let There Be Light   \n653   80119192     1                          Nazi Concentration Camps   \n654   60027945     1                                    Prelude to War   \n655   80119188     1                                        San Pietro   \n656   60027942     1                              The Battle of Midway   \n658   80119194     1  The Memphis Belle: A Story of a\\nFlying Fortress   \n659   80119191     1                                 The Negro Soldier   \n660   80119193     1                                       Thunderbolt   \n661   80119186     1     Undercover: How to Operate Behind Enemy Lines   \n662   70013050     1                Why We Fight: The Battle of Russia   \n914    1005494     1                                      The Stranger   \n1334  80161851     2               Pioneers of African-American Cinema   \n\n                                               director  country  \\\n651                            Frank Capra, Joris Ivens        2   \n652                                         John Huston        2   \n653                                      George Stevens        2   \n654                                         Frank Capra        2   \n655                                         John Huston        2   \n656                                           John Ford        2   \n658                                       William Wyler        2   \n659                                      Stuart Heisler        2   \n660                         William Wyler, John Sturges        2   \n661                                           John Ford        2   \n662                         Frank Capra, Anatole Litvak        2   \n914                                        Orson Welles        2   \n1334  Oscar Micheaux, Spencer Williams, Richard E. N...        2   \n\n            date_added  release_year  rating  duration  \\\n651     March 31, 2017          1945       3    63 min   \n652     March 31, 2017          1946       2    58 min   \n653     March 31, 2017          1945       4    59 min   \n654     March 31, 2017          1942       2    52 min   \n655     March 31, 2017          1945       3    32 min   \n656     March 31, 2017          1942       1    18 min   \n658     March 31, 2017          1944       2    40 min   \n659     March 31, 2017          1944       3    40 min   \n660     March 31, 2017          1947       3    42 min   \n661     March 31, 2017          1943       2    61 min   \n662     March 31, 2017          1943       3    82 min   \n914      July 19, 2018          1946       2    94 min   \n1334  February 1, 2017          1946       3  1 Season   \n\n                              listed_in  \n651       Classic Movies, Documentaries  \n652       Classic Movies, Documentaries  \n653       Classic Movies, Documentaries  \n654       Classic Movies, Documentaries  \n655       Classic Movies, Documentaries  \n656       Classic Movies, Documentaries  \n658       Classic Movies, Documentaries  \n659       Classic Movies, Documentaries  \n660       Classic Movies, Documentaries  \n661       Classic Movies, Documentaries  \n662                       Documentaries  \n914   Classic Movies, Dramas, Thrillers  \n1334                           TV Shows  "
          },
          "metadata": {}
        }
      ]
    },
    {
      "metadata": {
        "trusted": true
      },
      "cell_type": "code",
      "source": "q1 = net['release_year'].quantile(.25)\nq3 = net['release_year'].quantile(.75)\nprint(q1,q3)",
      "execution_count": 52,
      "outputs": [
        {
          "output_type": "stream",
          "text": "2013.0 2018.0\n",
          "name": "stdout"
        }
      ]
    },
    {
      "metadata": {
        "trusted": true
      },
      "cell_type": "code",
      "source": "iqr = q3-q1",
      "execution_count": 53,
      "outputs": []
    },
    {
      "metadata": {
        "trusted": true
      },
      "cell_type": "code",
      "source": "print(iqr)",
      "execution_count": 54,
      "outputs": [
        {
          "output_type": "stream",
          "text": "5.0\n",
          "name": "stdout"
        }
      ]
    },
    {
      "metadata": {
        "trusted": true
      },
      "cell_type": "code",
      "source": "minimum = q1-1.5*iqr\nmaximum = q3+1.5*iqr",
      "execution_count": 57,
      "outputs": []
    },
    {
      "metadata": {
        "trusted": true
      },
      "cell_type": "code",
      "source": "minimum",
      "execution_count": 58,
      "outputs": [
        {
          "output_type": "execute_result",
          "execution_count": 58,
          "data": {
            "text/plain": "2005.5"
          },
          "metadata": {}
        }
      ]
    },
    {
      "metadata": {
        "trusted": true
      },
      "cell_type": "code",
      "source": "maximum",
      "execution_count": 59,
      "outputs": [
        {
          "output_type": "execute_result",
          "execution_count": 59,
          "data": {
            "text/plain": "2025.5"
          },
          "metadata": {}
        }
      ]
    },
    {
      "metadata": {
        "trusted": true
      },
      "cell_type": "code",
      "source": "net['release_year_outlier'] = False",
      "execution_count": 60,
      "outputs": []
    },
    {
      "metadata": {
        "trusted": true
      },
      "cell_type": "code",
      "source": "for index, row in net.iterrows():\n    if row['release_year'] > maximum or row['release_year'] < minimum:\n        net.at[index,'release_year_outlier'] = True",
      "execution_count": 69,
      "outputs": []
    },
    {
      "metadata": {
        "trusted": true
      },
      "cell_type": "code",
      "source": "",
      "execution_count": null,
      "outputs": []
    },
    {
      "metadata": {
        "trusted": true
      },
      "cell_type": "code",
      "source": "net['release_year_outlier'].sum()",
      "execution_count": 70,
      "outputs": [
        {
          "output_type": "execute_result",
          "execution_count": 70,
          "data": {
            "text/plain": "255"
          },
          "metadata": {}
        }
      ]
    },
    {
      "metadata": {
        "trusted": true
      },
      "cell_type": "code",
      "source": "net_cap = net",
      "execution_count": 71,
      "outputs": []
    },
    {
      "metadata": {
        "trusted": true
      },
      "cell_type": "code",
      "source": "net_cap.shape",
      "execution_count": 72,
      "outputs": [
        {
          "output_type": "execute_result",
          "execution_count": 72,
          "data": {
            "text/plain": "(2003, 11)"
          },
          "metadata": {}
        }
      ]
    },
    {
      "metadata": {
        "trusted": true
      },
      "cell_type": "code",
      "source": "",
      "execution_count": null,
      "outputs": []
    },
    {
      "metadata": {
        "trusted": true
      },
      "cell_type": "code",
      "source": "mean = net['release_year'].mean()\nmean",
      "execution_count": 64,
      "outputs": [
        {
          "output_type": "execute_result",
          "execution_count": 64,
          "data": {
            "text/plain": "2012.9610584123814"
          },
          "metadata": {}
        }
      ]
    },
    {
      "metadata": {
        "trusted": true
      },
      "cell_type": "code",
      "source": "for index, row in net.iterrows():\n    if row['release_year_outlier'] == True:\n        net_cap.at[index, 'release_year'] = mean\n        ",
      "execution_count": 74,
      "outputs": []
    },
    {
      "metadata": {
        "trusted": true
      },
      "cell_type": "code",
      "source": "net_cap['release_year'].value_counts()",
      "execution_count": 75,
      "outputs": [
        {
          "output_type": "execute_result",
          "execution_count": 75,
          "data": {
            "text/plain": "2018    367\n2017    354\n2019    334\n2012    290\n2016    236\n2015    122\n2014     68\n2013     46\n2009     34\n2011     33\n2010     31\n2008     31\n2007     24\n2006     24\n2020      9\nName: release_year, dtype: int64"
          },
          "metadata": {}
        }
      ]
    },
    {
      "metadata": {
        "trusted": true
      },
      "cell_type": "code",
      "source": "net_cap.shape",
      "execution_count": 76,
      "outputs": [
        {
          "output_type": "execute_result",
          "execution_count": 76,
          "data": {
            "text/plain": "(2003, 11)"
          },
          "metadata": {}
        }
      ]
    },
    {
      "metadata": {
        "trusted": true
      },
      "cell_type": "code",
      "source": "net['release_year'].value_counts()",
      "execution_count": 77,
      "outputs": [
        {
          "output_type": "execute_result",
          "execution_count": 77,
          "data": {
            "text/plain": "2018    367\n2017    354\n2019    334\n2012    290\n2016    236\n2015    122\n2014     68\n2013     46\n2009     34\n2011     33\n2010     31\n2008     31\n2007     24\n2006     24\n2020      9\nName: release_year, dtype: int64"
          },
          "metadata": {}
        }
      ]
    },
    {
      "metadata": {
        "trusted": true
      },
      "cell_type": "code",
      "source": "net_cap.to_csv('netflix_data_outliers_capped.csv')",
      "execution_count": 78,
      "outputs": []
    },
    {
      "metadata": {
        "trusted": true
      },
      "cell_type": "code",
      "source": "net.dtypes",
      "execution_count": 79,
      "outputs": [
        {
          "output_type": "execute_result",
          "execution_count": 79,
          "data": {
            "text/plain": "show_id                  int64\ntype                     int64\ntitle                   object\ndirector                object\ncountry                  int64\ndate_added              object\nrelease_year             int64\nrating                   int64\nduration                object\nlisted_in               object\nrelease_year_outlier      bool\ndtype: object"
          },
          "metadata": {}
        }
      ]
    },
    {
      "metadata": {
        "trusted": true
      },
      "cell_type": "code",
      "source": "boxplot = net.boxplot(grid=False, rot=45, fontsize=15, column=['release_year'],\n                      figsize=(6,5));",
      "execution_count": 80,
      "outputs": [
        {
          "output_type": "display_data",
          "data": {
            "image/png": "[encoded data removed]",
            "text/plain": "<Figure size 432x360 with 1 Axes>"
          },
          "metadata": {
            "needs_background": "light"
          }
        }
      ]
    },
    {
      "metadata": {
        "trusted": true
      },
      "cell_type": "code",
      "source": "",
      "execution_count": null,
      "outputs": []
    },
    {
      "metadata": {
        "trusted": true
      },
      "cell_type": "code",
      "source": "",
      "execution_count": null,
      "outputs": []
    },
    {
      "metadata": {
        "trusted": true
      },
      "cell_type": "code",
      "source": "",
      "execution_count": null,
      "outputs": []
    },
    {
      "metadata": {
        "trusted": true
      },
      "cell_type": "code",
      "source": "",
      "execution_count": null,
      "outputs": []
    },
    {
      "metadata": {
        "trusted": true
      },
      "cell_type": "code",
      "source": "",
      "execution_count": null,
      "outputs": []
    },
    {
      "metadata": {
        "trusted": true
      },
      "cell_type": "code",
      "source": "",
      "execution_count": null,
      "outputs": []
    },
    {
      "metadata": {
        "trusted": true
      },
      "cell_type": "code",
      "source": "",
      "execution_count": null,
      "outputs": []
    },
    {
      "metadata": {
        "trusted": true
      },
      "cell_type": "code",
      "source": "",
      "execution_count": null,
      "outputs": []
    },
    {
      "metadata": {
        "trusted": true
      },
      "cell_type": "code",
      "source": "",
      "execution_count": null,
      "outputs": []
    },
    {
      "metadata": {
        "trusted": true
      },
      "cell_type": "code",
      "source": "",
      "execution_count": null,
      "outputs": []
    },
    {
      "metadata": {
        "trusted": true
      },
      "cell_type": "code",
      "source": "",
      "execution_count": null,
      "outputs": []
    },
    {
      "metadata": {
        "trusted": true
      },
      "cell_type": "code",
      "source": "",
      "execution_count": null,
      "outputs": []
    }
  ],
  "metadata": {
    "kernelspec": {
      "name": "python36",
      "display_name": "Python 3.6",
      "language": "python"
    },
    "language_info": {
      "mimetype": "text/x-python",
      "nbconvert_exporter": "python",
      "name": "python",
      "pygments_lexer": "ipython3",
      "version": "3.6.6",
      "file_extension": ".py",
      "codemirror_mode": {
        "version": 3,
        "name": "ipython"
      }
    }
  },
  "nbformat": 4,
  "nbformat_minor": 2
}