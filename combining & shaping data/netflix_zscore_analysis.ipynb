{
  "cells": [
    {
      "metadata": {
        "trusted": true
      },
      "cell_type": "code",
      "source": "import pandas as pd\nimport numpy as np\nimport matplotlib.pyplot as plt\nimport warnings\nwarnings.filterwarnings(\"ignore\")",
      "execution_count": 1,
      "outputs": []
    },
    {
      "metadata": {
        "trusted": true
      },
      "cell_type": "code",
      "source": "net = pd.read_csv('netflix_data_c.csv')",
      "execution_count": 3,
      "outputs": []
    },
    {
      "metadata": {
        "trusted": true
      },
      "cell_type": "code",
      "source": "net = net.rename(columns = {\"release_year\": \"year\"})",
      "execution_count": 4,
      "outputs": []
    },
    {
      "metadata": {
        "trusted": true
      },
      "cell_type": "code",
      "source": "net.columns",
      "execution_count": 5,
      "outputs": [
        {
          "output_type": "execute_result",
          "execution_count": 5,
          "data": {
            "text/plain": "Index(['show_id', 'type', 'title', 'director', 'country', 'date_added', 'year',\n       'rating', 'duration', 'listed_in'],\n      dtype='object')"
          },
          "metadata": {}
        }
      ]
    },
    {
      "metadata": {
        "trusted": true
      },
      "cell_type": "code",
      "source": "from sklearn.preprocessing import StandardScaler\nscaler = StandardScaler()\nscaled_year = scaler.fit_transform(net['year'].values.reshape(-1,1))",
      "execution_count": 7,
      "outputs": []
    },
    {
      "metadata": {
        "trusted": true
      },
      "cell_type": "code",
      "source": "scaled_year.shape",
      "execution_count": 8,
      "outputs": [
        {
          "output_type": "execute_result",
          "execution_count": 8,
          "data": {
            "text/plain": "(2003, 1)"
          },
          "metadata": {}
        }
      ]
    },
    {
      "metadata": {
        "trusted": true
      },
      "cell_type": "code",
      "source": "net.shape",
      "execution_count": 9,
      "outputs": [
        {
          "output_type": "execute_result",
          "execution_count": 9,
          "data": {
            "text/plain": "(2003, 10)"
          },
          "metadata": {}
        }
      ]
    },
    {
      "metadata": {
        "trusted": true
      },
      "cell_type": "code",
      "source": "net['scaled_year'] = scaled_year",
      "execution_count": 10,
      "outputs": []
    },
    {
      "metadata": {
        "trusted": true
      },
      "cell_type": "code",
      "source": "net['scaled_year'].describe()",
      "execution_count": 12,
      "outputs": [
        {
          "output_type": "execute_result",
          "execution_count": 12,
          "data": {
            "text/plain": "count    2.003000e+03\nmean     6.404540e-15\nstd      1.000250e+00\nmin     -6.791116e+00\n25%      3.726788e-03\n50%      3.865349e-01\n75%      4.822369e-01\nmax      6.736409e-01\nName: scaled_year, dtype: float64"
          },
          "metadata": {}
        }
      ]
    },
    {
      "metadata": {
        "trusted": true
      },
      "cell_type": "code",
      "source": "net.boxplot(figsize=(10,8), fontsize=15, column=['scaled_year']);",
      "execution_count": 13,
      "outputs": [
        {
          "output_type": "display_data",
          "data": {
            "image/png": "[encoded data removed]",
            "text/plain": "<Figure size 720x576 with 1 Axes>"
          },
          "metadata": {
            "needs_background": "light"
          }
        }
      ]
    },
    {
      "metadata": {
        "trusted": true
      },
      "cell_type": "code",
      "source": "outliers = np.where(net['scaled_year'] < -5)\noutliers",
      "execution_count": 15,
      "outputs": [
        {
          "output_type": "execute_result",
          "execution_count": 15,
          "data": {
            "text/plain": "(array([ 448,  458,  460,  473,  475,  651,  652,  653,  654,  655,  656,\n         658,  659,  660,  661,  662,  914,  932, 1334]),)"
          },
          "metadata": {}
        }
      ]
    },
    {
      "metadata": {
        "trusted": true
      },
      "cell_type": "code",
      "source": "net.iloc[outliers]",
      "execution_count": 16,
      "outputs": [
        {
          "output_type": "execute_result",
          "execution_count": 16,
          "data": {
            "text/html": "<div>\n<style scoped>\n    .dataframe tbody tr th:only-of-type {\n        vertical-align: middle;\n    }\n\n    .dataframe tbody tr th {\n        vertical-align: top;\n    }\n\n    .dataframe thead th {\n        text-align: right;\n    }\n</style>\n<table border=\"1\" class=\"dataframe\">\n  <thead>\n    <tr style=\"text-align: right;\">\n      <th></th>\n      <th>show_id</th>\n      <th>type</th>\n      <th>title</th>\n      <th>director</th>\n      <th>country</th>\n      <th>date_added</th>\n      <th>year</th>\n      <th>rating</th>\n      <th>duration</th>\n      <th>listed_in</th>\n      <th>scaled_year</th>\n    </tr>\n  </thead>\n  <tbody>\n    <tr>\n      <th>448</th>\n      <td>60002033</td>\n      <td>1</td>\n      <td>Butterfield 8</td>\n      <td>Daniel Mann</td>\n      <td>2</td>\n      <td>November 1, 2019</td>\n      <td>1960</td>\n      <td>3</td>\n      <td>108 min</td>\n      <td>Classic Movies, Dramas, Romantic Movies</td>\n      <td>-5.068480</td>\n    </tr>\n    <tr>\n      <th>458</th>\n      <td>516788</td>\n      <td>1</td>\n      <td>Forbidden Planet</td>\n      <td>Fred M. Wilcox</td>\n      <td>2</td>\n      <td>November 1, 2019</td>\n      <td>1956</td>\n      <td>1</td>\n      <td>98 min</td>\n      <td>Action &amp; Adventure, Classic Movies, Sci-Fi &amp; F...</td>\n      <td>-5.451288</td>\n    </tr>\n    <tr>\n      <th>460</th>\n      <td>542137</td>\n      <td>1</td>\n      <td>Gigi</td>\n      <td>Vincente Minnelli, Charles Walters</td>\n      <td>2</td>\n      <td>November 1, 2019</td>\n      <td>1958</td>\n      <td>1</td>\n      <td>115 min</td>\n      <td>Classic Movies, Comedies, Music &amp; Musicals</td>\n      <td>-5.259884</td>\n    </tr>\n    <tr>\n      <th>473</th>\n      <td>60021590</td>\n      <td>1</td>\n      <td>Ocean's Eleven</td>\n      <td>Lewis Milestone</td>\n      <td>2</td>\n      <td>November 1, 2019</td>\n      <td>1960</td>\n      <td>2</td>\n      <td>127 min</td>\n      <td>Action &amp; Adventure, Classic Movies, Comedies</td>\n      <td>-5.068480</td>\n    </tr>\n    <tr>\n      <th>475</th>\n      <td>70031792</td>\n      <td>1</td>\n      <td>Rebel Without a Cause</td>\n      <td>Nicholas Ray</td>\n      <td>2</td>\n      <td>November 1, 2019</td>\n      <td>1955</td>\n      <td>3</td>\n      <td>111 min</td>\n      <td>Classic Movies, Dramas</td>\n      <td>-5.546990</td>\n    </tr>\n    <tr>\n      <th>651</th>\n      <td>80119190</td>\n      <td>1</td>\n      <td>Know Your Enemy - Japan</td>\n      <td>Frank Capra, Joris Ivens</td>\n      <td>2</td>\n      <td>March 31, 2017</td>\n      <td>1945</td>\n      <td>3</td>\n      <td>63 min</td>\n      <td>Classic Movies, Documentaries</td>\n      <td>-6.504010</td>\n    </tr>\n    <tr>\n      <th>652</th>\n      <td>80119187</td>\n      <td>1</td>\n      <td>Let There Be Light</td>\n      <td>John Huston</td>\n      <td>2</td>\n      <td>March 31, 2017</td>\n      <td>1946</td>\n      <td>2</td>\n      <td>58 min</td>\n      <td>Classic Movies, Documentaries</td>\n      <td>-6.408308</td>\n    </tr>\n    <tr>\n      <th>653</th>\n      <td>80119192</td>\n      <td>1</td>\n      <td>Nazi Concentration Camps</td>\n      <td>George Stevens</td>\n      <td>2</td>\n      <td>March 31, 2017</td>\n      <td>1945</td>\n      <td>4</td>\n      <td>59 min</td>\n      <td>Classic Movies, Documentaries</td>\n      <td>-6.504010</td>\n    </tr>\n    <tr>\n      <th>654</th>\n      <td>60027945</td>\n      <td>1</td>\n      <td>Prelude to War</td>\n      <td>Frank Capra</td>\n      <td>2</td>\n      <td>March 31, 2017</td>\n      <td>1942</td>\n      <td>2</td>\n      <td>52 min</td>\n      <td>Classic Movies, Documentaries</td>\n      <td>-6.791116</td>\n    </tr>\n    <tr>\n      <th>655</th>\n      <td>80119188</td>\n      <td>1</td>\n      <td>San Pietro</td>\n      <td>John Huston</td>\n      <td>2</td>\n      <td>March 31, 2017</td>\n      <td>1945</td>\n      <td>3</td>\n      <td>32 min</td>\n      <td>Classic Movies, Documentaries</td>\n      <td>-6.504010</td>\n    </tr>\n    <tr>\n      <th>656</th>\n      <td>60027942</td>\n      <td>1</td>\n      <td>The Battle of Midway</td>\n      <td>John Ford</td>\n      <td>2</td>\n      <td>March 31, 2017</td>\n      <td>1942</td>\n      <td>1</td>\n      <td>18 min</td>\n      <td>Classic Movies, Documentaries</td>\n      <td>-6.791116</td>\n    </tr>\n    <tr>\n      <th>658</th>\n      <td>80119194</td>\n      <td>1</td>\n      <td>The Memphis Belle: A Story of a\\nFlying Fortress</td>\n      <td>William Wyler</td>\n      <td>2</td>\n      <td>March 31, 2017</td>\n      <td>1944</td>\n      <td>2</td>\n      <td>40 min</td>\n      <td>Classic Movies, Documentaries</td>\n      <td>-6.599712</td>\n    </tr>\n    <tr>\n      <th>659</th>\n      <td>80119191</td>\n      <td>1</td>\n      <td>The Negro Soldier</td>\n      <td>Stuart Heisler</td>\n      <td>2</td>\n      <td>March 31, 2017</td>\n      <td>1944</td>\n      <td>3</td>\n      <td>40 min</td>\n      <td>Classic Movies, Documentaries</td>\n      <td>-6.599712</td>\n    </tr>\n    <tr>\n      <th>660</th>\n      <td>80119193</td>\n      <td>1</td>\n      <td>Thunderbolt</td>\n      <td>William Wyler, John Sturges</td>\n      <td>2</td>\n      <td>March 31, 2017</td>\n      <td>1947</td>\n      <td>3</td>\n      <td>42 min</td>\n      <td>Classic Movies, Documentaries</td>\n      <td>-6.312606</td>\n    </tr>\n    <tr>\n      <th>661</th>\n      <td>80119186</td>\n      <td>1</td>\n      <td>Undercover: How to Operate Behind Enemy Lines</td>\n      <td>John Ford</td>\n      <td>2</td>\n      <td>March 31, 2017</td>\n      <td>1943</td>\n      <td>2</td>\n      <td>61 min</td>\n      <td>Classic Movies, Documentaries</td>\n      <td>-6.695414</td>\n    </tr>\n    <tr>\n      <th>662</th>\n      <td>70013050</td>\n      <td>1</td>\n      <td>Why We Fight: The Battle of Russia</td>\n      <td>Frank Capra, Anatole Litvak</td>\n      <td>2</td>\n      <td>March 31, 2017</td>\n      <td>1943</td>\n      <td>3</td>\n      <td>82 min</td>\n      <td>Documentaries</td>\n      <td>-6.695414</td>\n    </tr>\n    <tr>\n      <th>914</th>\n      <td>1005494</td>\n      <td>1</td>\n      <td>The Stranger</td>\n      <td>Orson Welles</td>\n      <td>2</td>\n      <td>July 19, 2018</td>\n      <td>1946</td>\n      <td>2</td>\n      <td>94 min</td>\n      <td>Classic Movies, Dramas, Thrillers</td>\n      <td>-6.408308</td>\n    </tr>\n    <tr>\n      <th>932</th>\n      <td>60003082</td>\n      <td>1</td>\n      <td>White Christmas</td>\n      <td>Michael Curtiz</td>\n      <td>2</td>\n      <td>July 15, 2012</td>\n      <td>1954</td>\n      <td>1</td>\n      <td>120 min</td>\n      <td>Children &amp; Family Movies, Classic Movies, Come...</td>\n      <td>-5.642692</td>\n    </tr>\n    <tr>\n      <th>1334</th>\n      <td>80161851</td>\n      <td>2</td>\n      <td>Pioneers of African-American Cinema</td>\n      <td>Oscar Micheaux, Spencer Williams, Richard E. N...</td>\n      <td>2</td>\n      <td>February 1, 2017</td>\n      <td>1946</td>\n      <td>3</td>\n      <td>1 Season</td>\n      <td>TV Shows</td>\n      <td>-6.408308</td>\n    </tr>\n  </tbody>\n</table>\n</div>",
            "text/plain": "       show_id  type                                             title  \\\n448   60002033     1                                     Butterfield 8   \n458     516788     1                                  Forbidden Planet   \n460     542137     1                                              Gigi   \n473   60021590     1                                    Ocean's Eleven   \n475   70031792     1                             Rebel Without a Cause   \n651   80119190     1                           Know Your Enemy - Japan   \n652   80119187     1                                Let There Be Light   \n653   80119192     1                          Nazi Concentration Camps   \n654   60027945     1                                    Prelude to War   \n655   80119188     1                                        San Pietro   \n656   60027942     1                              The Battle of Midway   \n658   80119194     1  The Memphis Belle: A Story of a\\nFlying Fortress   \n659   80119191     1                                 The Negro Soldier   \n660   80119193     1                                       Thunderbolt   \n661   80119186     1     Undercover: How to Operate Behind Enemy Lines   \n662   70013050     1                Why We Fight: The Battle of Russia   \n914    1005494     1                                      The Stranger   \n932   60003082     1                                   White Christmas   \n1334  80161851     2               Pioneers of African-American Cinema   \n\n                                               director  country  \\\n448                                         Daniel Mann        2   \n458                                      Fred M. Wilcox        2   \n460                  Vincente Minnelli, Charles Walters        2   \n473                                     Lewis Milestone        2   \n475                                        Nicholas Ray        2   \n651                            Frank Capra, Joris Ivens        2   \n652                                         John Huston        2   \n653                                      George Stevens        2   \n654                                         Frank Capra        2   \n655                                         John Huston        2   \n656                                           John Ford        2   \n658                                       William Wyler        2   \n659                                      Stuart Heisler        2   \n660                         William Wyler, John Sturges        2   \n661                                           John Ford        2   \n662                         Frank Capra, Anatole Litvak        2   \n914                                        Orson Welles        2   \n932                                      Michael Curtiz        2   \n1334  Oscar Micheaux, Spencer Williams, Richard E. N...        2   \n\n            date_added  year  rating  duration  \\\n448   November 1, 2019  1960       3   108 min   \n458   November 1, 2019  1956       1    98 min   \n460   November 1, 2019  1958       1   115 min   \n473   November 1, 2019  1960       2   127 min   \n475   November 1, 2019  1955       3   111 min   \n651     March 31, 2017  1945       3    63 min   \n652     March 31, 2017  1946       2    58 min   \n653     March 31, 2017  1945       4    59 min   \n654     March 31, 2017  1942       2    52 min   \n655     March 31, 2017  1945       3    32 min   \n656     March 31, 2017  1942       1    18 min   \n658     March 31, 2017  1944       2    40 min   \n659     March 31, 2017  1944       3    40 min   \n660     March 31, 2017  1947       3    42 min   \n661     March 31, 2017  1943       2    61 min   \n662     March 31, 2017  1943       3    82 min   \n914      July 19, 2018  1946       2    94 min   \n932      July 15, 2012  1954       1   120 min   \n1334  February 1, 2017  1946       3  1 Season   \n\n                                              listed_in  scaled_year  \n448             Classic Movies, Dramas, Romantic Movies    -5.068480  \n458   Action & Adventure, Classic Movies, Sci-Fi & F...    -5.451288  \n460          Classic Movies, Comedies, Music & Musicals    -5.259884  \n473        Action & Adventure, Classic Movies, Comedies    -5.068480  \n475                              Classic Movies, Dramas    -5.546990  \n651                       Classic Movies, Documentaries    -6.504010  \n652                       Classic Movies, Documentaries    -6.408308  \n653                       Classic Movies, Documentaries    -6.504010  \n654                       Classic Movies, Documentaries    -6.791116  \n655                       Classic Movies, Documentaries    -6.504010  \n656                       Classic Movies, Documentaries    -6.791116  \n658                       Classic Movies, Documentaries    -6.599712  \n659                       Classic Movies, Documentaries    -6.599712  \n660                       Classic Movies, Documentaries    -6.312606  \n661                       Classic Movies, Documentaries    -6.695414  \n662                                       Documentaries    -6.695414  \n914                   Classic Movies, Dramas, Thrillers    -6.408308  \n932   Children & Family Movies, Classic Movies, Come...    -5.642692  \n1334                                           TV Shows    -6.408308  "
          },
          "metadata": {}
        }
      ]
    },
    {
      "metadata": {
        "trusted": true
      },
      "cell_type": "code",
      "source": "net_out_removed = net.drop(net.index[outliers])",
      "execution_count": 18,
      "outputs": []
    },
    {
      "metadata": {
        "trusted": true
      },
      "cell_type": "code",
      "source": "net_out_removed.to_csv('netflix_data_zscores_rm.csv')",
      "execution_count": 19,
      "outputs": []
    },
    {
      "metadata": {
        "trusted": true
      },
      "cell_type": "code",
      "source": "",
      "execution_count": null,
      "outputs": []
    }
  ],
  "metadata": {
    "kernelspec": {
      "name": "python36",
      "display_name": "Python 3.6",
      "language": "python"
    },
    "language_info": {
      "mimetype": "text/x-python",
      "nbconvert_exporter": "python",
      "name": "python",
      "pygments_lexer": "ipython3",
      "version": "3.6.6",
      "file_extension": ".py",
      "codemirror_mode": {
        "version": 3,
        "name": "ipython"
      }
    }
  },
  "nbformat": 4,
  "nbformat_minor": 2
}